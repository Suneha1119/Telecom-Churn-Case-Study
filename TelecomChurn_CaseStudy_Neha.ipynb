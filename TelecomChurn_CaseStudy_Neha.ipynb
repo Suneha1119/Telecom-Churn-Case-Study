{
 "cells": [
  {
   "cell_type": "markdown",
   "id": "46556867-c4ce-4845-b9af-a26daac1e2a5",
   "metadata": {},
   "source": [
    "# <center><span style='color:Green'>Telecom Churn - Case Study</span></center>"
   ]
  },
  {
   "cell_type": "markdown",
   "id": "36e77568-d178-4d1e-add2-f98716a74c6d",
   "metadata": {},
   "source": [
    "# <span style='color:Blue'>1. Introduction</span>"
   ]
  },
  {
   "cell_type": "markdown",
   "id": "eddcbfa2-dd92-468d-81c7-3fd7886ed345",
   "metadata": {},
   "source": [
    "## 1.1 Problem Statement"
   ]
  },
  {
   "cell_type": "markdown",
   "id": "1196691b-6edb-4d2e-aa4e-c027fb6b5c54",
   "metadata": {},
   "source": [
    "- In the telecommunication industry, customers tend to change operators if not provided with attractive schemes and offers. \n",
    "- It is very important for any telecom operator to prevent the present customers from churning to other operators.\n",
    "- In this highly competitive market, the telecommunications industry experiences an average of 15-25% annual churn rate.\n",
    "- Given the fact that it costs 5-10 times more to acquire a new customer than to retain an existing one, customer retention has now become even more important than customer acquisition to reduce customer churn, telecom companies need to predict which customers are at high risk of churn. "
   ]
  },
  {
   "cell_type": "markdown",
   "id": "768bb1b2-9a4f-47bb-a6b2-60d5cc111b51",
   "metadata": {},
   "source": [
    "## 1.2 Objective"
   ]
  },
  {
   "cell_type": "markdown",
   "id": "1f9315b4-c708-4a6b-a12a-d1dd90589bb7",
   "metadata": {},
   "source": [
    "Create a model to forecast whether or not a high-value customer would churn in the near future (churn phase). Identifying key predictors of churn allows companies to take action, such as offering special programs or recharge discounts. These indicators may also reveal why customers switch to other networks.\r\n",
    "Based on your observations, make recommendations for customer churn management strategies.\r\n",
    "To manage a high number of attributes, use a dimensionality reduction technique such as PCA, and then design a prediction model.del"
   ]
  },
  {
   "cell_type": "markdown",
   "id": "bcf8f499-5067-4741-b42c-6bfc57a70daa",
   "metadata": {},
   "source": [
    "## 1.3 Approach to solving this Business Problem"
   ]
  },
  {
   "cell_type": "markdown",
   "id": "939f5cbb-df5a-4c05-b0f3-7d3a3fbe093e",
   "metadata": {},
   "source": [
    "- Step 1 : Introduction\n",
    "- Step 2 : Data Understanding\n",
    "- Step 3 : Data Preparation\n",
    "- Step 4 : Exploratory data analysis (EDA)\n",
    "- Step 5 : Training the model\n",
    "- Step 6 : Model Prediction and Evaluation\n",
    "- Step 7 : Recommandations"
   ]
  },
  {
   "cell_type": "markdown",
   "id": "9c2dc571-39fd-496f-a84a-e731db2d95b3",
   "metadata": {},
   "source": [
    "# <span style='color:Blue'>2. Data Understanding </span>"
   ]
  },
  {
   "cell_type": "code",
   "execution_count": 383,
   "id": "f4787253-56ea-4125-867e-23036cced276",
   "metadata": {},
   "outputs": [],
   "source": [
    "# Importing libraies and packages\n",
    "\n",
    "import pandas as pd #Data Processing\n",
    "import numpy as np #Linear Algebra\n",
    "import seaborn as sns #Data Visualization\n",
    "import matplotlib.pyplot as plt #Data Visualization\n",
    "import warnings #Warnings\n",
    "warnings.filterwarnings (\"ignore\") #Warnings\n",
    "from IPython.display import Markdown, display ,HTML\n",
    "from sklearn.impute import SimpleImputer\n",
    "from sklearn.model_selection import train_test_split\n",
    "from sklearn.preprocessing import StandardScaler"
   ]
  },
  {
   "cell_type": "markdown",
   "id": "8f13582c-a832-438e-839a-9a08ed8b4b23",
   "metadata": {},
   "source": [
    "## 2.1 - Data Loading : Train Data Set"
   ]
  },
  {
   "cell_type": "code",
   "execution_count": 27,
   "id": "8137a061-c208-42c6-bc51-17ccb10499a2",
   "metadata": {},
   "outputs": [
    {
     "data": {
      "text/html": [
       "<div>\n",
       "<style scoped>\n",
       "    .dataframe tbody tr th:only-of-type {\n",
       "        vertical-align: middle;\n",
       "    }\n",
       "\n",
       "    .dataframe tbody tr th {\n",
       "        vertical-align: top;\n",
       "    }\n",
       "\n",
       "    .dataframe thead th {\n",
       "        text-align: right;\n",
       "    }\n",
       "</style>\n",
       "<table border=\"1\" class=\"dataframe\">\n",
       "  <thead>\n",
       "    <tr style=\"text-align: right;\">\n",
       "      <th></th>\n",
       "      <th>id</th>\n",
       "      <th>circle_id</th>\n",
       "      <th>loc_og_t2o_mou</th>\n",
       "      <th>std_og_t2o_mou</th>\n",
       "      <th>loc_ic_t2o_mou</th>\n",
       "      <th>last_date_of_month_6</th>\n",
       "      <th>last_date_of_month_7</th>\n",
       "      <th>last_date_of_month_8</th>\n",
       "      <th>arpu_6</th>\n",
       "      <th>arpu_7</th>\n",
       "      <th>...</th>\n",
       "      <th>sachet_3g_7</th>\n",
       "      <th>sachet_3g_8</th>\n",
       "      <th>fb_user_6</th>\n",
       "      <th>fb_user_7</th>\n",
       "      <th>fb_user_8</th>\n",
       "      <th>aon</th>\n",
       "      <th>aug_vbc_3g</th>\n",
       "      <th>jul_vbc_3g</th>\n",
       "      <th>jun_vbc_3g</th>\n",
       "      <th>churn_probability</th>\n",
       "    </tr>\n",
       "  </thead>\n",
       "  <tbody>\n",
       "    <tr>\n",
       "      <th>0</th>\n",
       "      <td>0</td>\n",
       "      <td>109</td>\n",
       "      <td>0.0</td>\n",
       "      <td>0.0</td>\n",
       "      <td>0.0</td>\n",
       "      <td>6/30/2014</td>\n",
       "      <td>7/31/2014</td>\n",
       "      <td>8/31/2014</td>\n",
       "      <td>31.277</td>\n",
       "      <td>87.009</td>\n",
       "      <td>...</td>\n",
       "      <td>0</td>\n",
       "      <td>0</td>\n",
       "      <td>NaN</td>\n",
       "      <td>NaN</td>\n",
       "      <td>NaN</td>\n",
       "      <td>1958</td>\n",
       "      <td>0.0</td>\n",
       "      <td>0.0</td>\n",
       "      <td>0.0</td>\n",
       "      <td>0</td>\n",
       "    </tr>\n",
       "    <tr>\n",
       "      <th>1</th>\n",
       "      <td>1</td>\n",
       "      <td>109</td>\n",
       "      <td>0.0</td>\n",
       "      <td>0.0</td>\n",
       "      <td>0.0</td>\n",
       "      <td>6/30/2014</td>\n",
       "      <td>7/31/2014</td>\n",
       "      <td>8/31/2014</td>\n",
       "      <td>0.000</td>\n",
       "      <td>122.787</td>\n",
       "      <td>...</td>\n",
       "      <td>0</td>\n",
       "      <td>0</td>\n",
       "      <td>NaN</td>\n",
       "      <td>1.0</td>\n",
       "      <td>NaN</td>\n",
       "      <td>710</td>\n",
       "      <td>0.0</td>\n",
       "      <td>0.0</td>\n",
       "      <td>0.0</td>\n",
       "      <td>0</td>\n",
       "    </tr>\n",
       "    <tr>\n",
       "      <th>2</th>\n",
       "      <td>2</td>\n",
       "      <td>109</td>\n",
       "      <td>0.0</td>\n",
       "      <td>0.0</td>\n",
       "      <td>0.0</td>\n",
       "      <td>6/30/2014</td>\n",
       "      <td>7/31/2014</td>\n",
       "      <td>8/31/2014</td>\n",
       "      <td>60.806</td>\n",
       "      <td>103.176</td>\n",
       "      <td>...</td>\n",
       "      <td>0</td>\n",
       "      <td>0</td>\n",
       "      <td>NaN</td>\n",
       "      <td>NaN</td>\n",
       "      <td>NaN</td>\n",
       "      <td>882</td>\n",
       "      <td>0.0</td>\n",
       "      <td>0.0</td>\n",
       "      <td>0.0</td>\n",
       "      <td>0</td>\n",
       "    </tr>\n",
       "    <tr>\n",
       "      <th>3</th>\n",
       "      <td>3</td>\n",
       "      <td>109</td>\n",
       "      <td>0.0</td>\n",
       "      <td>0.0</td>\n",
       "      <td>0.0</td>\n",
       "      <td>6/30/2014</td>\n",
       "      <td>7/31/2014</td>\n",
       "      <td>8/31/2014</td>\n",
       "      <td>156.362</td>\n",
       "      <td>205.260</td>\n",
       "      <td>...</td>\n",
       "      <td>0</td>\n",
       "      <td>0</td>\n",
       "      <td>NaN</td>\n",
       "      <td>NaN</td>\n",
       "      <td>NaN</td>\n",
       "      <td>982</td>\n",
       "      <td>0.0</td>\n",
       "      <td>0.0</td>\n",
       "      <td>0.0</td>\n",
       "      <td>0</td>\n",
       "    </tr>\n",
       "    <tr>\n",
       "      <th>4</th>\n",
       "      <td>4</td>\n",
       "      <td>109</td>\n",
       "      <td>0.0</td>\n",
       "      <td>0.0</td>\n",
       "      <td>0.0</td>\n",
       "      <td>6/30/2014</td>\n",
       "      <td>7/31/2014</td>\n",
       "      <td>8/31/2014</td>\n",
       "      <td>240.708</td>\n",
       "      <td>128.191</td>\n",
       "      <td>...</td>\n",
       "      <td>1</td>\n",
       "      <td>0</td>\n",
       "      <td>1.0</td>\n",
       "      <td>1.0</td>\n",
       "      <td>1.0</td>\n",
       "      <td>647</td>\n",
       "      <td>0.0</td>\n",
       "      <td>0.0</td>\n",
       "      <td>0.0</td>\n",
       "      <td>0</td>\n",
       "    </tr>\n",
       "  </tbody>\n",
       "</table>\n",
       "<p>5 rows × 172 columns</p>\n",
       "</div>"
      ],
      "text/plain": [
       "   id  circle_id  loc_og_t2o_mou  std_og_t2o_mou  loc_ic_t2o_mou  \\\n",
       "0   0        109             0.0             0.0             0.0   \n",
       "1   1        109             0.0             0.0             0.0   \n",
       "2   2        109             0.0             0.0             0.0   \n",
       "3   3        109             0.0             0.0             0.0   \n",
       "4   4        109             0.0             0.0             0.0   \n",
       "\n",
       "  last_date_of_month_6 last_date_of_month_7 last_date_of_month_8   arpu_6  \\\n",
       "0            6/30/2014            7/31/2014            8/31/2014   31.277   \n",
       "1            6/30/2014            7/31/2014            8/31/2014    0.000   \n",
       "2            6/30/2014            7/31/2014            8/31/2014   60.806   \n",
       "3            6/30/2014            7/31/2014            8/31/2014  156.362   \n",
       "4            6/30/2014            7/31/2014            8/31/2014  240.708   \n",
       "\n",
       "    arpu_7  ...  sachet_3g_7  sachet_3g_8  fb_user_6  fb_user_7  fb_user_8  \\\n",
       "0   87.009  ...            0            0        NaN        NaN        NaN   \n",
       "1  122.787  ...            0            0        NaN        1.0        NaN   \n",
       "2  103.176  ...            0            0        NaN        NaN        NaN   \n",
       "3  205.260  ...            0            0        NaN        NaN        NaN   \n",
       "4  128.191  ...            1            0        1.0        1.0        1.0   \n",
       "\n",
       "    aon  aug_vbc_3g  jul_vbc_3g  jun_vbc_3g  churn_probability  \n",
       "0  1958         0.0         0.0         0.0                  0  \n",
       "1   710         0.0         0.0         0.0                  0  \n",
       "2   882         0.0         0.0         0.0                  0  \n",
       "3   982         0.0         0.0         0.0                  0  \n",
       "4   647         0.0         0.0         0.0                  0  \n",
       "\n",
       "[5 rows x 172 columns]"
      ]
     },
     "execution_count": 27,
     "metadata": {},
     "output_type": "execute_result"
    }
   ],
   "source": [
    "df_tel_train = pd.read_csv(\"train.csv\")\n",
    "df_tel_train.head() "
   ]
  },
  {
   "cell_type": "code",
   "execution_count": 29,
   "id": "a21f79fd-1b78-4a0e-aced-b67ad8423e2a",
   "metadata": {},
   "outputs": [
    {
     "data": {
      "text/plain": [
       "(69999, 172)"
      ]
     },
     "execution_count": 29,
     "metadata": {},
     "output_type": "execute_result"
    }
   ],
   "source": [
    "df_tel_train.shape"
   ]
  },
  {
   "cell_type": "code",
   "execution_count": 31,
   "id": "cb3a74f8-968e-44f6-9c73-95c09b30ac79",
   "metadata": {},
   "outputs": [
    {
     "name": "stdout",
     "output_type": "stream",
     "text": [
      "<class 'pandas.core.frame.DataFrame'>\n",
      "RangeIndex: 69999 entries, 0 to 69998\n",
      "Columns: 172 entries, id to churn_probability\n",
      "dtypes: float64(135), int64(28), object(9)\n",
      "memory usage: 91.9+ MB\n"
     ]
    }
   ],
   "source": [
    "df_tel_train.info()"
   ]
  },
  {
   "cell_type": "code",
   "execution_count": 33,
   "id": "817eeb40-2906-4c20-9965-e8a361ccaf56",
   "metadata": {},
   "outputs": [
    {
     "data": {
      "text/html": [
       "<div>\n",
       "<style scoped>\n",
       "    .dataframe tbody tr th:only-of-type {\n",
       "        vertical-align: middle;\n",
       "    }\n",
       "\n",
       "    .dataframe tbody tr th {\n",
       "        vertical-align: top;\n",
       "    }\n",
       "\n",
       "    .dataframe thead th {\n",
       "        text-align: right;\n",
       "    }\n",
       "</style>\n",
       "<table border=\"1\" class=\"dataframe\">\n",
       "  <thead>\n",
       "    <tr style=\"text-align: right;\">\n",
       "      <th></th>\n",
       "      <th>id</th>\n",
       "      <th>circle_id</th>\n",
       "      <th>loc_og_t2o_mou</th>\n",
       "      <th>std_og_t2o_mou</th>\n",
       "      <th>loc_ic_t2o_mou</th>\n",
       "      <th>arpu_6</th>\n",
       "      <th>arpu_7</th>\n",
       "      <th>arpu_8</th>\n",
       "      <th>onnet_mou_6</th>\n",
       "      <th>onnet_mou_7</th>\n",
       "      <th>...</th>\n",
       "      <th>sachet_3g_7</th>\n",
       "      <th>sachet_3g_8</th>\n",
       "      <th>fb_user_6</th>\n",
       "      <th>fb_user_7</th>\n",
       "      <th>fb_user_8</th>\n",
       "      <th>aon</th>\n",
       "      <th>aug_vbc_3g</th>\n",
       "      <th>jul_vbc_3g</th>\n",
       "      <th>jun_vbc_3g</th>\n",
       "      <th>churn_probability</th>\n",
       "    </tr>\n",
       "  </thead>\n",
       "  <tbody>\n",
       "    <tr>\n",
       "      <th>count</th>\n",
       "      <td>69999.000000</td>\n",
       "      <td>69999.0</td>\n",
       "      <td>69297.0</td>\n",
       "      <td>69297.0</td>\n",
       "      <td>69297.0</td>\n",
       "      <td>69999.000000</td>\n",
       "      <td>69999.000000</td>\n",
       "      <td>69999.000000</td>\n",
       "      <td>67231.000000</td>\n",
       "      <td>67312.000000</td>\n",
       "      <td>...</td>\n",
       "      <td>69999.000000</td>\n",
       "      <td>69999.000000</td>\n",
       "      <td>17568.000000</td>\n",
       "      <td>17865.000000</td>\n",
       "      <td>18417.000000</td>\n",
       "      <td>69999.000000</td>\n",
       "      <td>69999.000000</td>\n",
       "      <td>69999.000000</td>\n",
       "      <td>69999.00000</td>\n",
       "      <td>69999.000000</td>\n",
       "    </tr>\n",
       "    <tr>\n",
       "      <th>mean</th>\n",
       "      <td>34999.000000</td>\n",
       "      <td>109.0</td>\n",
       "      <td>0.0</td>\n",
       "      <td>0.0</td>\n",
       "      <td>0.0</td>\n",
       "      <td>283.134365</td>\n",
       "      <td>278.185912</td>\n",
       "      <td>278.858826</td>\n",
       "      <td>133.153275</td>\n",
       "      <td>133.894438</td>\n",
       "      <td>...</td>\n",
       "      <td>0.081444</td>\n",
       "      <td>0.085487</td>\n",
       "      <td>0.916325</td>\n",
       "      <td>0.909544</td>\n",
       "      <td>0.890319</td>\n",
       "      <td>1220.639709</td>\n",
       "      <td>68.108597</td>\n",
       "      <td>65.935830</td>\n",
       "      <td>60.07674</td>\n",
       "      <td>0.101887</td>\n",
       "    </tr>\n",
       "    <tr>\n",
       "      <th>std</th>\n",
       "      <td>20207.115084</td>\n",
       "      <td>0.0</td>\n",
       "      <td>0.0</td>\n",
       "      <td>0.0</td>\n",
       "      <td>0.0</td>\n",
       "      <td>334.213918</td>\n",
       "      <td>344.366927</td>\n",
       "      <td>351.924315</td>\n",
       "      <td>299.963093</td>\n",
       "      <td>311.277193</td>\n",
       "      <td>...</td>\n",
       "      <td>0.634547</td>\n",
       "      <td>0.680035</td>\n",
       "      <td>0.276907</td>\n",
       "      <td>0.286842</td>\n",
       "      <td>0.312501</td>\n",
       "      <td>952.426321</td>\n",
       "      <td>269.328659</td>\n",
       "      <td>267.899034</td>\n",
       "      <td>257.22681</td>\n",
       "      <td>0.302502</td>\n",
       "    </tr>\n",
       "    <tr>\n",
       "      <th>min</th>\n",
       "      <td>0.000000</td>\n",
       "      <td>109.0</td>\n",
       "      <td>0.0</td>\n",
       "      <td>0.0</td>\n",
       "      <td>0.0</td>\n",
       "      <td>-2258.709000</td>\n",
       "      <td>-1289.715000</td>\n",
       "      <td>-945.808000</td>\n",
       "      <td>0.000000</td>\n",
       "      <td>0.000000</td>\n",
       "      <td>...</td>\n",
       "      <td>0.000000</td>\n",
       "      <td>0.000000</td>\n",
       "      <td>0.000000</td>\n",
       "      <td>0.000000</td>\n",
       "      <td>0.000000</td>\n",
       "      <td>180.000000</td>\n",
       "      <td>0.000000</td>\n",
       "      <td>0.000000</td>\n",
       "      <td>0.00000</td>\n",
       "      <td>0.000000</td>\n",
       "    </tr>\n",
       "    <tr>\n",
       "      <th>25%</th>\n",
       "      <td>17499.500000</td>\n",
       "      <td>109.0</td>\n",
       "      <td>0.0</td>\n",
       "      <td>0.0</td>\n",
       "      <td>0.0</td>\n",
       "      <td>93.581000</td>\n",
       "      <td>86.714000</td>\n",
       "      <td>84.095000</td>\n",
       "      <td>7.410000</td>\n",
       "      <td>6.675000</td>\n",
       "      <td>...</td>\n",
       "      <td>0.000000</td>\n",
       "      <td>0.000000</td>\n",
       "      <td>1.000000</td>\n",
       "      <td>1.000000</td>\n",
       "      <td>1.000000</td>\n",
       "      <td>468.000000</td>\n",
       "      <td>0.000000</td>\n",
       "      <td>0.000000</td>\n",
       "      <td>0.00000</td>\n",
       "      <td>0.000000</td>\n",
       "    </tr>\n",
       "    <tr>\n",
       "      <th>50%</th>\n",
       "      <td>34999.000000</td>\n",
       "      <td>109.0</td>\n",
       "      <td>0.0</td>\n",
       "      <td>0.0</td>\n",
       "      <td>0.0</td>\n",
       "      <td>197.484000</td>\n",
       "      <td>191.588000</td>\n",
       "      <td>192.234000</td>\n",
       "      <td>34.110000</td>\n",
       "      <td>32.280000</td>\n",
       "      <td>...</td>\n",
       "      <td>0.000000</td>\n",
       "      <td>0.000000</td>\n",
       "      <td>1.000000</td>\n",
       "      <td>1.000000</td>\n",
       "      <td>1.000000</td>\n",
       "      <td>868.000000</td>\n",
       "      <td>0.000000</td>\n",
       "      <td>0.000000</td>\n",
       "      <td>0.00000</td>\n",
       "      <td>0.000000</td>\n",
       "    </tr>\n",
       "    <tr>\n",
       "      <th>75%</th>\n",
       "      <td>52498.500000</td>\n",
       "      <td>109.0</td>\n",
       "      <td>0.0</td>\n",
       "      <td>0.0</td>\n",
       "      <td>0.0</td>\n",
       "      <td>370.791000</td>\n",
       "      <td>365.369500</td>\n",
       "      <td>369.909000</td>\n",
       "      <td>119.390000</td>\n",
       "      <td>115.837500</td>\n",
       "      <td>...</td>\n",
       "      <td>0.000000</td>\n",
       "      <td>0.000000</td>\n",
       "      <td>1.000000</td>\n",
       "      <td>1.000000</td>\n",
       "      <td>1.000000</td>\n",
       "      <td>1813.000000</td>\n",
       "      <td>0.000000</td>\n",
       "      <td>0.000000</td>\n",
       "      <td>0.00000</td>\n",
       "      <td>0.000000</td>\n",
       "    </tr>\n",
       "    <tr>\n",
       "      <th>max</th>\n",
       "      <td>69998.000000</td>\n",
       "      <td>109.0</td>\n",
       "      <td>0.0</td>\n",
       "      <td>0.0</td>\n",
       "      <td>0.0</td>\n",
       "      <td>27731.088000</td>\n",
       "      <td>35145.834000</td>\n",
       "      <td>33543.624000</td>\n",
       "      <td>7376.710000</td>\n",
       "      <td>8157.780000</td>\n",
       "      <td>...</td>\n",
       "      <td>33.000000</td>\n",
       "      <td>41.000000</td>\n",
       "      <td>1.000000</td>\n",
       "      <td>1.000000</td>\n",
       "      <td>1.000000</td>\n",
       "      <td>4337.000000</td>\n",
       "      <td>12916.220000</td>\n",
       "      <td>9165.600000</td>\n",
       "      <td>11166.21000</td>\n",
       "      <td>1.000000</td>\n",
       "    </tr>\n",
       "  </tbody>\n",
       "</table>\n",
       "<p>8 rows × 163 columns</p>\n",
       "</div>"
      ],
      "text/plain": [
       "                 id  circle_id  loc_og_t2o_mou  std_og_t2o_mou  \\\n",
       "count  69999.000000    69999.0         69297.0         69297.0   \n",
       "mean   34999.000000      109.0             0.0             0.0   \n",
       "std    20207.115084        0.0             0.0             0.0   \n",
       "min        0.000000      109.0             0.0             0.0   \n",
       "25%    17499.500000      109.0             0.0             0.0   \n",
       "50%    34999.000000      109.0             0.0             0.0   \n",
       "75%    52498.500000      109.0             0.0             0.0   \n",
       "max    69998.000000      109.0             0.0             0.0   \n",
       "\n",
       "       loc_ic_t2o_mou        arpu_6        arpu_7        arpu_8   onnet_mou_6  \\\n",
       "count         69297.0  69999.000000  69999.000000  69999.000000  67231.000000   \n",
       "mean              0.0    283.134365    278.185912    278.858826    133.153275   \n",
       "std               0.0    334.213918    344.366927    351.924315    299.963093   \n",
       "min               0.0  -2258.709000  -1289.715000   -945.808000      0.000000   \n",
       "25%               0.0     93.581000     86.714000     84.095000      7.410000   \n",
       "50%               0.0    197.484000    191.588000    192.234000     34.110000   \n",
       "75%               0.0    370.791000    365.369500    369.909000    119.390000   \n",
       "max               0.0  27731.088000  35145.834000  33543.624000   7376.710000   \n",
       "\n",
       "        onnet_mou_7  ...   sachet_3g_7   sachet_3g_8     fb_user_6  \\\n",
       "count  67312.000000  ...  69999.000000  69999.000000  17568.000000   \n",
       "mean     133.894438  ...      0.081444      0.085487      0.916325   \n",
       "std      311.277193  ...      0.634547      0.680035      0.276907   \n",
       "min        0.000000  ...      0.000000      0.000000      0.000000   \n",
       "25%        6.675000  ...      0.000000      0.000000      1.000000   \n",
       "50%       32.280000  ...      0.000000      0.000000      1.000000   \n",
       "75%      115.837500  ...      0.000000      0.000000      1.000000   \n",
       "max     8157.780000  ...     33.000000     41.000000      1.000000   \n",
       "\n",
       "          fb_user_7     fb_user_8           aon    aug_vbc_3g    jul_vbc_3g  \\\n",
       "count  17865.000000  18417.000000  69999.000000  69999.000000  69999.000000   \n",
       "mean       0.909544      0.890319   1220.639709     68.108597     65.935830   \n",
       "std        0.286842      0.312501    952.426321    269.328659    267.899034   \n",
       "min        0.000000      0.000000    180.000000      0.000000      0.000000   \n",
       "25%        1.000000      1.000000    468.000000      0.000000      0.000000   \n",
       "50%        1.000000      1.000000    868.000000      0.000000      0.000000   \n",
       "75%        1.000000      1.000000   1813.000000      0.000000      0.000000   \n",
       "max        1.000000      1.000000   4337.000000  12916.220000   9165.600000   \n",
       "\n",
       "        jun_vbc_3g  churn_probability  \n",
       "count  69999.00000       69999.000000  \n",
       "mean      60.07674           0.101887  \n",
       "std      257.22681           0.302502  \n",
       "min        0.00000           0.000000  \n",
       "25%        0.00000           0.000000  \n",
       "50%        0.00000           0.000000  \n",
       "75%        0.00000           0.000000  \n",
       "max    11166.21000           1.000000  \n",
       "\n",
       "[8 rows x 163 columns]"
      ]
     },
     "execution_count": 33,
     "metadata": {},
     "output_type": "execute_result"
    }
   ],
   "source": [
    "df_tel_train.describe()"
   ]
  },
  {
   "cell_type": "markdown",
   "id": "a5567e4b-8e50-485b-864c-46c5eca2d463",
   "metadata": {},
   "source": [
    "## 2.2 - Data Loading : Test Data Set"
   ]
  },
  {
   "cell_type": "code",
   "execution_count": 36,
   "id": "d086efbc-d732-4a6c-b123-3b0243868c20",
   "metadata": {},
   "outputs": [
    {
     "data": {
      "text/html": [
       "<div>\n",
       "<style scoped>\n",
       "    .dataframe tbody tr th:only-of-type {\n",
       "        vertical-align: middle;\n",
       "    }\n",
       "\n",
       "    .dataframe tbody tr th {\n",
       "        vertical-align: top;\n",
       "    }\n",
       "\n",
       "    .dataframe thead th {\n",
       "        text-align: right;\n",
       "    }\n",
       "</style>\n",
       "<table border=\"1\" class=\"dataframe\">\n",
       "  <thead>\n",
       "    <tr style=\"text-align: right;\">\n",
       "      <th></th>\n",
       "      <th>id</th>\n",
       "      <th>circle_id</th>\n",
       "      <th>loc_og_t2o_mou</th>\n",
       "      <th>std_og_t2o_mou</th>\n",
       "      <th>loc_ic_t2o_mou</th>\n",
       "      <th>last_date_of_month_6</th>\n",
       "      <th>last_date_of_month_7</th>\n",
       "      <th>last_date_of_month_8</th>\n",
       "      <th>arpu_6</th>\n",
       "      <th>arpu_7</th>\n",
       "      <th>...</th>\n",
       "      <th>sachet_3g_6</th>\n",
       "      <th>sachet_3g_7</th>\n",
       "      <th>sachet_3g_8</th>\n",
       "      <th>fb_user_6</th>\n",
       "      <th>fb_user_7</th>\n",
       "      <th>fb_user_8</th>\n",
       "      <th>aon</th>\n",
       "      <th>aug_vbc_3g</th>\n",
       "      <th>jul_vbc_3g</th>\n",
       "      <th>jun_vbc_3g</th>\n",
       "    </tr>\n",
       "  </thead>\n",
       "  <tbody>\n",
       "    <tr>\n",
       "      <th>0</th>\n",
       "      <td>69999</td>\n",
       "      <td>109</td>\n",
       "      <td>0.0</td>\n",
       "      <td>0.0</td>\n",
       "      <td>0.0</td>\n",
       "      <td>6/30/2014</td>\n",
       "      <td>7/31/2014</td>\n",
       "      <td>8/31/2014</td>\n",
       "      <td>91.882</td>\n",
       "      <td>65.330</td>\n",
       "      <td>...</td>\n",
       "      <td>0</td>\n",
       "      <td>0</td>\n",
       "      <td>0</td>\n",
       "      <td>NaN</td>\n",
       "      <td>NaN</td>\n",
       "      <td>NaN</td>\n",
       "      <td>1692</td>\n",
       "      <td>0.00</td>\n",
       "      <td>0.00</td>\n",
       "      <td>0.00</td>\n",
       "    </tr>\n",
       "    <tr>\n",
       "      <th>1</th>\n",
       "      <td>70000</td>\n",
       "      <td>109</td>\n",
       "      <td>0.0</td>\n",
       "      <td>0.0</td>\n",
       "      <td>0.0</td>\n",
       "      <td>6/30/2014</td>\n",
       "      <td>7/31/2014</td>\n",
       "      <td>8/31/2014</td>\n",
       "      <td>414.168</td>\n",
       "      <td>515.568</td>\n",
       "      <td>...</td>\n",
       "      <td>0</td>\n",
       "      <td>0</td>\n",
       "      <td>0</td>\n",
       "      <td>NaN</td>\n",
       "      <td>NaN</td>\n",
       "      <td>NaN</td>\n",
       "      <td>2533</td>\n",
       "      <td>0.00</td>\n",
       "      <td>0.00</td>\n",
       "      <td>0.00</td>\n",
       "    </tr>\n",
       "    <tr>\n",
       "      <th>2</th>\n",
       "      <td>70001</td>\n",
       "      <td>109</td>\n",
       "      <td>0.0</td>\n",
       "      <td>0.0</td>\n",
       "      <td>0.0</td>\n",
       "      <td>6/30/2014</td>\n",
       "      <td>7/31/2014</td>\n",
       "      <td>8/31/2014</td>\n",
       "      <td>329.844</td>\n",
       "      <td>434.884</td>\n",
       "      <td>...</td>\n",
       "      <td>0</td>\n",
       "      <td>0</td>\n",
       "      <td>0</td>\n",
       "      <td>NaN</td>\n",
       "      <td>NaN</td>\n",
       "      <td>NaN</td>\n",
       "      <td>277</td>\n",
       "      <td>525.61</td>\n",
       "      <td>758.41</td>\n",
       "      <td>241.84</td>\n",
       "    </tr>\n",
       "    <tr>\n",
       "      <th>3</th>\n",
       "      <td>70002</td>\n",
       "      <td>109</td>\n",
       "      <td>0.0</td>\n",
       "      <td>0.0</td>\n",
       "      <td>0.0</td>\n",
       "      <td>6/30/2014</td>\n",
       "      <td>7/31/2014</td>\n",
       "      <td>8/31/2014</td>\n",
       "      <td>43.550</td>\n",
       "      <td>171.390</td>\n",
       "      <td>...</td>\n",
       "      <td>0</td>\n",
       "      <td>0</td>\n",
       "      <td>0</td>\n",
       "      <td>NaN</td>\n",
       "      <td>NaN</td>\n",
       "      <td>NaN</td>\n",
       "      <td>1244</td>\n",
       "      <td>0.00</td>\n",
       "      <td>0.00</td>\n",
       "      <td>0.00</td>\n",
       "    </tr>\n",
       "    <tr>\n",
       "      <th>4</th>\n",
       "      <td>70003</td>\n",
       "      <td>109</td>\n",
       "      <td>0.0</td>\n",
       "      <td>0.0</td>\n",
       "      <td>0.0</td>\n",
       "      <td>6/30/2014</td>\n",
       "      <td>7/31/2014</td>\n",
       "      <td>8/31/2014</td>\n",
       "      <td>306.854</td>\n",
       "      <td>406.289</td>\n",
       "      <td>...</td>\n",
       "      <td>0</td>\n",
       "      <td>0</td>\n",
       "      <td>0</td>\n",
       "      <td>NaN</td>\n",
       "      <td>NaN</td>\n",
       "      <td>NaN</td>\n",
       "      <td>462</td>\n",
       "      <td>0.00</td>\n",
       "      <td>0.00</td>\n",
       "      <td>0.00</td>\n",
       "    </tr>\n",
       "  </tbody>\n",
       "</table>\n",
       "<p>5 rows × 171 columns</p>\n",
       "</div>"
      ],
      "text/plain": [
       "      id  circle_id  loc_og_t2o_mou  std_og_t2o_mou  loc_ic_t2o_mou  \\\n",
       "0  69999        109             0.0             0.0             0.0   \n",
       "1  70000        109             0.0             0.0             0.0   \n",
       "2  70001        109             0.0             0.0             0.0   \n",
       "3  70002        109             0.0             0.0             0.0   \n",
       "4  70003        109             0.0             0.0             0.0   \n",
       "\n",
       "  last_date_of_month_6 last_date_of_month_7 last_date_of_month_8   arpu_6  \\\n",
       "0            6/30/2014            7/31/2014            8/31/2014   91.882   \n",
       "1            6/30/2014            7/31/2014            8/31/2014  414.168   \n",
       "2            6/30/2014            7/31/2014            8/31/2014  329.844   \n",
       "3            6/30/2014            7/31/2014            8/31/2014   43.550   \n",
       "4            6/30/2014            7/31/2014            8/31/2014  306.854   \n",
       "\n",
       "    arpu_7  ...  sachet_3g_6  sachet_3g_7  sachet_3g_8  fb_user_6  fb_user_7  \\\n",
       "0   65.330  ...            0            0            0        NaN        NaN   \n",
       "1  515.568  ...            0            0            0        NaN        NaN   \n",
       "2  434.884  ...            0            0            0        NaN        NaN   \n",
       "3  171.390  ...            0            0            0        NaN        NaN   \n",
       "4  406.289  ...            0            0            0        NaN        NaN   \n",
       "\n",
       "   fb_user_8   aon  aug_vbc_3g  jul_vbc_3g  jun_vbc_3g  \n",
       "0        NaN  1692        0.00        0.00        0.00  \n",
       "1        NaN  2533        0.00        0.00        0.00  \n",
       "2        NaN   277      525.61      758.41      241.84  \n",
       "3        NaN  1244        0.00        0.00        0.00  \n",
       "4        NaN   462        0.00        0.00        0.00  \n",
       "\n",
       "[5 rows x 171 columns]"
      ]
     },
     "execution_count": 36,
     "metadata": {},
     "output_type": "execute_result"
    }
   ],
   "source": [
    "df_tel_test = pd.read_csv(\"test.csv\")\n",
    "df_tel_test.head() "
   ]
  },
  {
   "cell_type": "code",
   "execution_count": 40,
   "id": "e582d257-77ad-42ac-960f-00cc5dce0915",
   "metadata": {},
   "outputs": [
    {
     "data": {
      "text/plain": [
       "(30000, 171)"
      ]
     },
     "execution_count": 40,
     "metadata": {},
     "output_type": "execute_result"
    }
   ],
   "source": [
    "df_tel_test.shape"
   ]
  },
  {
   "cell_type": "code",
   "execution_count": 46,
   "id": "ae8b35b3-ba17-4878-a22f-62ffd04821b1",
   "metadata": {},
   "outputs": [
    {
     "data": {
      "text/html": [
       "<div>\n",
       "<style scoped>\n",
       "    .dataframe tbody tr th:only-of-type {\n",
       "        vertical-align: middle;\n",
       "    }\n",
       "\n",
       "    .dataframe tbody tr th {\n",
       "        vertical-align: top;\n",
       "    }\n",
       "\n",
       "    .dataframe thead th {\n",
       "        text-align: right;\n",
       "    }\n",
       "</style>\n",
       "<table border=\"1\" class=\"dataframe\">\n",
       "  <thead>\n",
       "    <tr style=\"text-align: right;\">\n",
       "      <th></th>\n",
       "      <th>id</th>\n",
       "      <th>circle_id</th>\n",
       "      <th>loc_og_t2o_mou</th>\n",
       "      <th>std_og_t2o_mou</th>\n",
       "      <th>loc_ic_t2o_mou</th>\n",
       "      <th>arpu_6</th>\n",
       "      <th>arpu_7</th>\n",
       "      <th>arpu_8</th>\n",
       "      <th>onnet_mou_6</th>\n",
       "      <th>onnet_mou_7</th>\n",
       "      <th>...</th>\n",
       "      <th>sachet_3g_6</th>\n",
       "      <th>sachet_3g_7</th>\n",
       "      <th>sachet_3g_8</th>\n",
       "      <th>fb_user_6</th>\n",
       "      <th>fb_user_7</th>\n",
       "      <th>fb_user_8</th>\n",
       "      <th>aon</th>\n",
       "      <th>aug_vbc_3g</th>\n",
       "      <th>jul_vbc_3g</th>\n",
       "      <th>jun_vbc_3g</th>\n",
       "    </tr>\n",
       "  </thead>\n",
       "  <tbody>\n",
       "    <tr>\n",
       "      <th>count</th>\n",
       "      <td>30000.000000</td>\n",
       "      <td>30000.0</td>\n",
       "      <td>29684.0</td>\n",
       "      <td>29684.0</td>\n",
       "      <td>29684.0</td>\n",
       "      <td>30000.000000</td>\n",
       "      <td>30000.000000</td>\n",
       "      <td>30000.000000</td>\n",
       "      <td>28831.000000</td>\n",
       "      <td>28828.000000</td>\n",
       "      <td>...</td>\n",
       "      <td>30000.000000</td>\n",
       "      <td>30000.000000</td>\n",
       "      <td>30000.000000</td>\n",
       "      <td>7585.000000</td>\n",
       "      <td>7706.000000</td>\n",
       "      <td>7922.000000</td>\n",
       "      <td>30000.000000</td>\n",
       "      <td>30000.000000</td>\n",
       "      <td>30000.000000</td>\n",
       "      <td>30000.000000</td>\n",
       "    </tr>\n",
       "    <tr>\n",
       "      <th>mean</th>\n",
       "      <td>84998.500000</td>\n",
       "      <td>109.0</td>\n",
       "      <td>0.0</td>\n",
       "      <td>0.0</td>\n",
       "      <td>0.0</td>\n",
       "      <td>282.644348</td>\n",
       "      <td>279.355021</td>\n",
       "      <td>279.845167</td>\n",
       "      <td>130.629693</td>\n",
       "      <td>133.148632</td>\n",
       "      <td>...</td>\n",
       "      <td>0.073467</td>\n",
       "      <td>0.077967</td>\n",
       "      <td>0.082200</td>\n",
       "      <td>0.909954</td>\n",
       "      <td>0.906956</td>\n",
       "      <td>0.891946</td>\n",
       "      <td>1218.023200</td>\n",
       "      <td>68.314097</td>\n",
       "      <td>68.946576</td>\n",
       "      <td>59.891621</td>\n",
       "    </tr>\n",
       "    <tr>\n",
       "      <th>std</th>\n",
       "      <td>8660.398374</td>\n",
       "      <td>0.0</td>\n",
       "      <td>0.0</td>\n",
       "      <td>0.0</td>\n",
       "      <td>0.0</td>\n",
       "      <td>314.560212</td>\n",
       "      <td>323.205370</td>\n",
       "      <td>326.437029</td>\n",
       "      <td>290.677420</td>\n",
       "      <td>302.921820</td>\n",
       "      <td>...</td>\n",
       "      <td>0.557327</td>\n",
       "      <td>0.613596</td>\n",
       "      <td>0.611546</td>\n",
       "      <td>0.286267</td>\n",
       "      <td>0.290513</td>\n",
       "      <td>0.310468</td>\n",
       "      <td>960.109844</td>\n",
       "      <td>263.460641</td>\n",
       "      <td>278.749349</td>\n",
       "      <td>246.098292</td>\n",
       "    </tr>\n",
       "    <tr>\n",
       "      <th>min</th>\n",
       "      <td>69999.000000</td>\n",
       "      <td>109.0</td>\n",
       "      <td>0.0</td>\n",
       "      <td>0.0</td>\n",
       "      <td>0.0</td>\n",
       "      <td>-185.043000</td>\n",
       "      <td>-2014.045000</td>\n",
       "      <td>-146.859000</td>\n",
       "      <td>0.000000</td>\n",
       "      <td>0.000000</td>\n",
       "      <td>...</td>\n",
       "      <td>0.000000</td>\n",
       "      <td>0.000000</td>\n",
       "      <td>0.000000</td>\n",
       "      <td>0.000000</td>\n",
       "      <td>0.000000</td>\n",
       "      <td>0.000000</td>\n",
       "      <td>180.000000</td>\n",
       "      <td>0.000000</td>\n",
       "      <td>0.000000</td>\n",
       "      <td>0.000000</td>\n",
       "    </tr>\n",
       "    <tr>\n",
       "      <th>25%</th>\n",
       "      <td>77498.750000</td>\n",
       "      <td>109.0</td>\n",
       "      <td>0.0</td>\n",
       "      <td>0.0</td>\n",
       "      <td>0.0</td>\n",
       "      <td>92.907500</td>\n",
       "      <td>87.504750</td>\n",
       "      <td>84.180500</td>\n",
       "      <td>7.280000</td>\n",
       "      <td>6.660000</td>\n",
       "      <td>...</td>\n",
       "      <td>0.000000</td>\n",
       "      <td>0.000000</td>\n",
       "      <td>0.000000</td>\n",
       "      <td>1.000000</td>\n",
       "      <td>1.000000</td>\n",
       "      <td>1.000000</td>\n",
       "      <td>466.000000</td>\n",
       "      <td>0.000000</td>\n",
       "      <td>0.000000</td>\n",
       "      <td>0.000000</td>\n",
       "    </tr>\n",
       "    <tr>\n",
       "      <th>50%</th>\n",
       "      <td>84998.500000</td>\n",
       "      <td>109.0</td>\n",
       "      <td>0.0</td>\n",
       "      <td>0.0</td>\n",
       "      <td>0.0</td>\n",
       "      <td>198.227500</td>\n",
       "      <td>191.775000</td>\n",
       "      <td>191.690500</td>\n",
       "      <td>34.760000</td>\n",
       "      <td>32.550000</td>\n",
       "      <td>...</td>\n",
       "      <td>0.000000</td>\n",
       "      <td>0.000000</td>\n",
       "      <td>0.000000</td>\n",
       "      <td>1.000000</td>\n",
       "      <td>1.000000</td>\n",
       "      <td>1.000000</td>\n",
       "      <td>853.000000</td>\n",
       "      <td>0.000000</td>\n",
       "      <td>0.000000</td>\n",
       "      <td>0.000000</td>\n",
       "    </tr>\n",
       "    <tr>\n",
       "      <th>75%</th>\n",
       "      <td>92498.250000</td>\n",
       "      <td>109.0</td>\n",
       "      <td>0.0</td>\n",
       "      <td>0.0</td>\n",
       "      <td>0.0</td>\n",
       "      <td>371.969250</td>\n",
       "      <td>365.250750</td>\n",
       "      <td>367.804750</td>\n",
       "      <td>117.170000</td>\n",
       "      <td>115.210000</td>\n",
       "      <td>...</td>\n",
       "      <td>0.000000</td>\n",
       "      <td>0.000000</td>\n",
       "      <td>0.000000</td>\n",
       "      <td>1.000000</td>\n",
       "      <td>1.000000</td>\n",
       "      <td>1.000000</td>\n",
       "      <td>1795.000000</td>\n",
       "      <td>0.000000</td>\n",
       "      <td>0.000000</td>\n",
       "      <td>0.000000</td>\n",
       "    </tr>\n",
       "    <tr>\n",
       "      <th>max</th>\n",
       "      <td>99998.000000</td>\n",
       "      <td>109.0</td>\n",
       "      <td>0.0</td>\n",
       "      <td>0.0</td>\n",
       "      <td>0.0</td>\n",
       "      <td>10955.066000</td>\n",
       "      <td>13224.119000</td>\n",
       "      <td>13505.996000</td>\n",
       "      <td>6944.360000</td>\n",
       "      <td>7411.010000</td>\n",
       "      <td>...</td>\n",
       "      <td>28.000000</td>\n",
       "      <td>35.000000</td>\n",
       "      <td>30.000000</td>\n",
       "      <td>1.000000</td>\n",
       "      <td>1.000000</td>\n",
       "      <td>1.000000</td>\n",
       "      <td>4197.000000</td>\n",
       "      <td>6054.390000</td>\n",
       "      <td>7994.840000</td>\n",
       "      <td>6614.530000</td>\n",
       "    </tr>\n",
       "  </tbody>\n",
       "</table>\n",
       "<p>8 rows × 162 columns</p>\n",
       "</div>"
      ],
      "text/plain": [
       "                 id  circle_id  loc_og_t2o_mou  std_og_t2o_mou  \\\n",
       "count  30000.000000    30000.0         29684.0         29684.0   \n",
       "mean   84998.500000      109.0             0.0             0.0   \n",
       "std     8660.398374        0.0             0.0             0.0   \n",
       "min    69999.000000      109.0             0.0             0.0   \n",
       "25%    77498.750000      109.0             0.0             0.0   \n",
       "50%    84998.500000      109.0             0.0             0.0   \n",
       "75%    92498.250000      109.0             0.0             0.0   \n",
       "max    99998.000000      109.0             0.0             0.0   \n",
       "\n",
       "       loc_ic_t2o_mou        arpu_6        arpu_7        arpu_8   onnet_mou_6  \\\n",
       "count         29684.0  30000.000000  30000.000000  30000.000000  28831.000000   \n",
       "mean              0.0    282.644348    279.355021    279.845167    130.629693   \n",
       "std               0.0    314.560212    323.205370    326.437029    290.677420   \n",
       "min               0.0   -185.043000  -2014.045000   -146.859000      0.000000   \n",
       "25%               0.0     92.907500     87.504750     84.180500      7.280000   \n",
       "50%               0.0    198.227500    191.775000    191.690500     34.760000   \n",
       "75%               0.0    371.969250    365.250750    367.804750    117.170000   \n",
       "max               0.0  10955.066000  13224.119000  13505.996000   6944.360000   \n",
       "\n",
       "        onnet_mou_7  ...   sachet_3g_6   sachet_3g_7   sachet_3g_8  \\\n",
       "count  28828.000000  ...  30000.000000  30000.000000  30000.000000   \n",
       "mean     133.148632  ...      0.073467      0.077967      0.082200   \n",
       "std      302.921820  ...      0.557327      0.613596      0.611546   \n",
       "min        0.000000  ...      0.000000      0.000000      0.000000   \n",
       "25%        6.660000  ...      0.000000      0.000000      0.000000   \n",
       "50%       32.550000  ...      0.000000      0.000000      0.000000   \n",
       "75%      115.210000  ...      0.000000      0.000000      0.000000   \n",
       "max     7411.010000  ...     28.000000     35.000000     30.000000   \n",
       "\n",
       "         fb_user_6    fb_user_7    fb_user_8           aon    aug_vbc_3g  \\\n",
       "count  7585.000000  7706.000000  7922.000000  30000.000000  30000.000000   \n",
       "mean      0.909954     0.906956     0.891946   1218.023200     68.314097   \n",
       "std       0.286267     0.290513     0.310468    960.109844    263.460641   \n",
       "min       0.000000     0.000000     0.000000    180.000000      0.000000   \n",
       "25%       1.000000     1.000000     1.000000    466.000000      0.000000   \n",
       "50%       1.000000     1.000000     1.000000    853.000000      0.000000   \n",
       "75%       1.000000     1.000000     1.000000   1795.000000      0.000000   \n",
       "max       1.000000     1.000000     1.000000   4197.000000   6054.390000   \n",
       "\n",
       "         jul_vbc_3g    jun_vbc_3g  \n",
       "count  30000.000000  30000.000000  \n",
       "mean      68.946576     59.891621  \n",
       "std      278.749349    246.098292  \n",
       "min        0.000000      0.000000  \n",
       "25%        0.000000      0.000000  \n",
       "50%        0.000000      0.000000  \n",
       "75%        0.000000      0.000000  \n",
       "max     7994.840000   6614.530000  \n",
       "\n",
       "[8 rows x 162 columns]"
      ]
     },
     "execution_count": 46,
     "metadata": {},
     "output_type": "execute_result"
    }
   ],
   "source": [
    "df_tel_test.describe()"
   ]
  },
  {
   "cell_type": "markdown",
   "id": "8b5c3e3b-f9f3-401d-9c89-a0ad69632ee2",
   "metadata": {},
   "source": [
    "# <span style='color:Blue'>3. Data Preparation </span>"
   ]
  },
  {
   "cell_type": "markdown",
   "id": "84fea09d-242a-4a11-81fe-28bc1e9edc9e",
   "metadata": {},
   "source": [
    "### 3.1 - Checking and droping duplicates"
   ]
  },
  {
   "cell_type": "code",
   "execution_count": 78,
   "id": "e6ae6ede-9fb5-4c8c-aabb-30e94018f61e",
   "metadata": {},
   "outputs": [
    {
     "name": "stdout",
     "output_type": "stream",
     "text": [
      "Dataset has 0 duplicates\n"
     ]
    }
   ],
   "source": [
    "if (duplicated := df_tel_train.duplicated(keep=False)).any():\n",
    "    some_duplicates = df_tel_train[duplicated].sort_values(by=df_tel_train.columns.to_list()).head()\n",
    "    print(f\"Dataset has one or more duplicated rows, for example:\\n{some_duplicates}\")\n",
    "else:\n",
    "    print(f\"Dataset has 0 duplicates\")"
   ]
  },
  {
   "cell_type": "code",
   "execution_count": 82,
   "id": "9c02f673-b6c0-4010-b660-cf35abb45ed9",
   "metadata": {},
   "outputs": [
    {
     "data": {
      "text/plain": [
       "id                     0\n",
       "circle_id              0\n",
       "loc_og_t2o_mou       702\n",
       "std_og_t2o_mou       702\n",
       "loc_ic_t2o_mou       702\n",
       "                    ... \n",
       "aon                    0\n",
       "aug_vbc_3g             0\n",
       "jul_vbc_3g             0\n",
       "jun_vbc_3g             0\n",
       "churn_probability      0\n",
       "Length: 172, dtype: int64"
      ]
     },
     "execution_count": 82,
     "metadata": {},
     "output_type": "execute_result"
    }
   ],
   "source": [
    "df_tel_train.isna().sum()"
   ]
  },
  {
   "cell_type": "code",
   "execution_count": 86,
   "id": "def07468-a31b-4e89-a74e-a2a549f84c3e",
   "metadata": {},
   "outputs": [
    {
     "data": {
      "text/plain": [
       "id                   0.0\n",
       "circle_id            0.0\n",
       "loc_og_t2o_mou       1.0\n",
       "std_og_t2o_mou       1.0\n",
       "loc_ic_t2o_mou       1.0\n",
       "                    ... \n",
       "aon                  0.0\n",
       "aug_vbc_3g           0.0\n",
       "jul_vbc_3g           0.0\n",
       "jun_vbc_3g           0.0\n",
       "churn_probability    0.0\n",
       "Length: 172, dtype: float64"
      ]
     },
     "execution_count": 86,
     "metadata": {},
     "output_type": "execute_result"
    }
   ],
   "source": [
    "round((df_tel_train.isna().sum()/len(df_tel_train.index))*100,2)"
   ]
  },
  {
   "cell_type": "markdown",
   "id": "750ccab7-adf3-46d5-b930-e55483d12572",
   "metadata": {},
   "source": [
    "### 3.2 - Dropping irrelevant or unnecessary columns"
   ]
  },
  {
   "cell_type": "markdown",
   "id": "e1621ff3-0d82-4684-90a9-85782b9415da",
   "metadata": {},
   "source": [
    "#### There are missing values in several columns, and they are usually either very high (over 70%) or low (up to about 5%). All columns with a significant percentage of missing values will be eliminated (using a 70% threshold)."
   ]
  },
  {
   "cell_type": "code",
   "execution_count": 91,
   "id": "624a5fd1-56ca-458d-ba6b-bd5a669a8034",
   "metadata": {},
   "outputs": [],
   "source": [
    "col_Null_70=[]\n",
    "for col in df_tel_train.columns:\n",
    "    if round((df_tel_train[col].isna().sum()/len(df_tel_train.index))*100,2) >=70:\n",
    "        col_Null_70.append(col)"
   ]
  },
  {
   "cell_type": "code",
   "execution_count": 93,
   "id": "9bd29ddb-a02c-4e49-b936-753b4fc49b98",
   "metadata": {},
   "outputs": [
    {
     "name": "stdout",
     "output_type": "stream",
     "text": [
      "Number of columns with high missing values =  24\n",
      "\n",
      " List of columns to drop ->\n",
      "\n",
      "['date_of_last_rech_data_6', 'date_of_last_rech_data_7', 'date_of_last_rech_data_8', 'max_rech_data_6', 'max_rech_data_7', 'max_rech_data_8', 'count_rech_2g_6', 'count_rech_2g_7', 'count_rech_2g_8', 'count_rech_3g_6', 'count_rech_3g_7', 'count_rech_3g_8', 'arpu_3g_6', 'arpu_3g_7', 'arpu_3g_8', 'arpu_2g_6', 'arpu_2g_7', 'arpu_2g_8', 'night_pck_user_6', 'night_pck_user_7', 'night_pck_user_8', 'fb_user_6', 'fb_user_7', 'fb_user_8']\n"
     ]
    }
   ],
   "source": [
    "print(\"Number of columns with high missing values = \",len(col_Null_70))\n",
    "print(\"\\n List of columns to drop ->\\n\")\n",
    "print(col_Null_70)"
   ]
  },
  {
   "cell_type": "code",
   "execution_count": 95,
   "id": "8d025098-7800-4979-b348-08bd0b4fd244",
   "metadata": {},
   "outputs": [],
   "source": [
    "## Droping the colums\n",
    "\n",
    "df_tel_train= df_tel_train.drop(df_tel_train[col_Null_70], axis=1)"
   ]
  },
  {
   "cell_type": "code",
   "execution_count": 97,
   "id": "63d9f21f-17a5-4311-80cf-29510ddd90de",
   "metadata": {},
   "outputs": [],
   "source": [
    "# Id type columns \n",
    "df_tel_train = df_tel_train.drop(['id','circle_id'],axis=1)\n",
    "\n",
    "# Columns containing last date of months\n",
    "df_tel_train = df_tel_train.drop(['last_date_of_month_6','last_date_of_month_7','last_date_of_month_8'],axis=1)\n",
    "\n",
    "# Columns which have only one value like zeros for all rows \n",
    "df_tel_train = df_tel_train.drop(['loc_og_t2o_mou','std_og_t2o_mou','loc_ic_t2o_mou'],axis=1)\n",
    "df_tel_train = df_tel_train.drop(['std_og_t2c_mou_6','std_og_t2c_mou_7','std_og_t2c_mou_8'],axis=1)\n",
    "df_tel_train = df_tel_train.drop(['std_ic_t2o_mou_6','std_ic_t2o_mou_7','std_ic_t2o_mou_8'],axis=1)\n",
    "\n",
    "# We already have monthly reacharge counts and amounts so their dates aren't useful\n",
    "df_tel_train = df_tel_train.drop(['date_of_last_rech_6','date_of_last_rech_7','date_of_last_rech_8'],axis=1)"
   ]
  },
  {
   "cell_type": "code",
   "execution_count": 99,
   "id": "af4de1c4-e7e4-4fbe-a638-1609ead1c2a8",
   "metadata": {},
   "outputs": [
    {
     "data": {
      "text/plain": [
       "(69999, 131)"
      ]
     },
     "execution_count": 99,
     "metadata": {},
     "output_type": "execute_result"
    }
   ],
   "source": [
    "df_tel_train.shape"
   ]
  },
  {
   "cell_type": "markdown",
   "id": "9884e0a3-b045-4cd9-8320-cac7635a4f51",
   "metadata": {},
   "source": [
    "### 3.3 - Missing Value Treatment"
   ]
  },
  {
   "cell_type": "code",
   "execution_count": 106,
   "id": "5108655c-f949-4f87-9fb2-7c3c3a828855",
   "metadata": {},
   "outputs": [
    {
     "data": {
      "text/plain": [
       "arpu_6               0.0\n",
       "arpu_7               0.0\n",
       "arpu_8               0.0\n",
       "onnet_mou_6          4.0\n",
       "onnet_mou_7          3.8\n",
       "                    ... \n",
       "aon                  0.0\n",
       "aug_vbc_3g           0.0\n",
       "jul_vbc_3g           0.0\n",
       "jun_vbc_3g           0.0\n",
       "churn_probability    0.0\n",
       "Length: 131, dtype: float64"
      ]
     },
     "execution_count": 106,
     "metadata": {},
     "output_type": "execute_result"
    }
   ],
   "source": [
    "col_missing_values = df_tel_train.columns[df_tel_train.isna().any()]\n",
    "\n",
    "# Calculate the count of missing values in each column\n",
    "missing_values_count = df_tel_train[col_missing_values].isna().sum()\n",
    "\n",
    "# Missing value percentage in each column\n",
    "round(df_tel_train.isnull().sum()/len(df_tel_train),3)*100"
   ]
  },
  {
   "cell_type": "code",
   "execution_count": 115,
   "id": "cfcdbfe1-c0ad-4611-9030-a0dce0eade20",
   "metadata": {},
   "outputs": [
    {
     "name": "stdout",
     "output_type": "stream",
     "text": [
      "Number of columns with low but non-zero missing values =  81\n",
      "\n",
      " List of columns to treat ->\n",
      "\n",
      "['onnet_mou_6', 'onnet_mou_7', 'onnet_mou_8', 'offnet_mou_6', 'offnet_mou_7', 'offnet_mou_8', 'roam_ic_mou_6', 'roam_ic_mou_7', 'roam_ic_mou_8', 'roam_og_mou_6', 'roam_og_mou_7', 'roam_og_mou_8', 'loc_og_t2t_mou_6', 'loc_og_t2t_mou_7', 'loc_og_t2t_mou_8', 'loc_og_t2m_mou_6', 'loc_og_t2m_mou_7', 'loc_og_t2m_mou_8', 'loc_og_t2f_mou_6', 'loc_og_t2f_mou_7', 'loc_og_t2f_mou_8', 'loc_og_t2c_mou_6', 'loc_og_t2c_mou_7', 'loc_og_t2c_mou_8', 'loc_og_mou_6', 'loc_og_mou_7', 'loc_og_mou_8', 'std_og_t2t_mou_6', 'std_og_t2t_mou_7', 'std_og_t2t_mou_8', 'std_og_t2m_mou_6', 'std_og_t2m_mou_7', 'std_og_t2m_mou_8', 'std_og_t2f_mou_6', 'std_og_t2f_mou_7', 'std_og_t2f_mou_8', 'std_og_mou_6', 'std_og_mou_7', 'std_og_mou_8', 'isd_og_mou_6', 'isd_og_mou_7', 'isd_og_mou_8', 'spl_og_mou_6', 'spl_og_mou_7', 'spl_og_mou_8', 'og_others_6', 'og_others_7', 'og_others_8', 'loc_ic_t2t_mou_6', 'loc_ic_t2t_mou_7', 'loc_ic_t2t_mou_8', 'loc_ic_t2m_mou_6', 'loc_ic_t2m_mou_7', 'loc_ic_t2m_mou_8', 'loc_ic_t2f_mou_6', 'loc_ic_t2f_mou_7', 'loc_ic_t2f_mou_8', 'loc_ic_mou_6', 'loc_ic_mou_7', 'loc_ic_mou_8', 'std_ic_t2t_mou_6', 'std_ic_t2t_mou_7', 'std_ic_t2t_mou_8', 'std_ic_t2m_mou_6', 'std_ic_t2m_mou_7', 'std_ic_t2m_mou_8', 'std_ic_t2f_mou_6', 'std_ic_t2f_mou_7', 'std_ic_t2f_mou_8', 'std_ic_mou_6', 'std_ic_mou_7', 'std_ic_mou_8', 'spl_ic_mou_6', 'spl_ic_mou_7', 'spl_ic_mou_8', 'isd_ic_mou_6', 'isd_ic_mou_7', 'isd_ic_mou_8', 'ic_others_6', 'ic_others_7', 'ic_others_8']\n"
     ]
    }
   ],
   "source": [
    "null_col=[]\n",
    "for col in df_tel_train.columns:\n",
    "    if round((df_tel_train[col].isna().sum()/len(df_tel_train.index))*100,2) >0:\n",
    "        null_col.append(col)\n",
    "print(\"Number of columns with low but non-zero missing values = \",len(null_col))\n",
    "print(\"\\n List of columns to treat ->\\n\")\n",
    "print(null_col)"
   ]
  },
  {
   "cell_type": "markdown",
   "id": "0257b27a-3efb-44b3-84f0-43933309f0ee",
   "metadata": {},
   "source": [
    "#### The majority of null columns appear to be numeric and set to 0. Hence, replacing null values as 0."
   ]
  },
  {
   "cell_type": "code",
   "execution_count": 117,
   "id": "9d0ad9ec-3bc2-4e9c-beec-c3fb772b6be5",
   "metadata": {},
   "outputs": [],
   "source": [
    "set_missing = SimpleImputer(strategy='most_frequent', missing_values=np.nan)\n",
    "df_tel_train[null_col] = set_missing.fit_transform(df_tel_train[null_col])"
   ]
  },
  {
   "cell_type": "code",
   "execution_count": 122,
   "id": "bbe88753-ba31-4ae2-a714-f3fa73f008e8",
   "metadata": {},
   "outputs": [
    {
     "data": {
      "text/plain": [
       "0"
      ]
     },
     "execution_count": 122,
     "metadata": {},
     "output_type": "execute_result"
    }
   ],
   "source": [
    "# Final Check\n",
    "df_tel_train.isnull().sum().sum()"
   ]
  },
  {
   "cell_type": "code",
   "execution_count": 124,
   "id": "404aaa80-383b-454f-a5b8-dce1bed9c2c2",
   "metadata": {},
   "outputs": [
    {
     "data": {
      "text/plain": [
       "(69999, 131)"
      ]
     },
     "execution_count": 124,
     "metadata": {},
     "output_type": "execute_result"
    }
   ],
   "source": [
    "df_tel_train.shape"
   ]
  },
  {
   "cell_type": "markdown",
   "id": "2b77c4b4-ddc0-4ca7-b575-9a5cd0a345c4",
   "metadata": {},
   "source": [
    "### 3.4 - Extracting list of columns containing recharge amount"
   ]
  },
  {
   "cell_type": "code",
   "execution_count": 50,
   "id": "04d8eb93-9637-4c29-b117-edce67b115e7",
   "metadata": {},
   "outputs": [
    {
     "name": "stdout",
     "output_type": "stream",
     "text": [
      "Index(['total_rech_amt_6', 'total_rech_amt_7', 'total_rech_amt_8',\n",
      "       'max_rech_amt_6', 'max_rech_amt_7', 'max_rech_amt_8',\n",
      "       'date_of_last_rech_data_6', 'date_of_last_rech_data_7',\n",
      "       'date_of_last_rech_data_8', 'total_rech_data_6', 'total_rech_data_7',\n",
      "       'total_rech_data_8', 'max_rech_data_6', 'max_rech_data_7',\n",
      "       'max_rech_data_8', 'av_rech_amt_data_6', 'av_rech_amt_data_7',\n",
      "       'av_rech_amt_data_8'],\n",
      "      dtype='object') \n",
      "\n",
      "The are in total 18 Columns containing Recharge Amount\n"
     ]
    }
   ],
   "source": [
    "recharge_columns =  df_tel_train.columns[df_tel_train.columns.str.contains('rech_amt|rech_data')]\n",
    "print(recharge_columns,\"\\n\")\n",
    "print(\"The are in total\",len(recharge_columns),\"Columns containing Recharge Amount\")"
   ]
  },
  {
   "cell_type": "code",
   "execution_count": 141,
   "id": "682aaa8c-105c-4f3e-8f06-a7613122e5d7",
   "metadata": {},
   "outputs": [],
   "source": [
    "#Replacing the NAN values with 0, considering there were no recharges done by the customer.\n",
    "df_tel_train['total_rech_data_6'] = df_tel_train['total_rech_data_6'].replace(np.NaN,0.0)\n",
    "df_tel_train['total_rech_data_7'] = df_tel_train['total_rech_data_7'].replace(np.NaN,0.0)\n",
    "df_tel_train['total_rech_data_8'] = df_tel_train['total_rech_data_8'].replace(np.NaN,0.0)\n",
    "df_tel_train['av_rech_amt_data_6'] = df_tel_train['av_rech_amt_data_6'].replace(np.NaN,0.0)\n",
    "df_tel_train['av_rech_amt_data_7'] = df_tel_train['av_rech_amt_data_7'].replace(np.NaN,0.0)\n",
    "df_tel_train['av_rech_amt_data_8'] = df_tel_train['av_rech_amt_data_8'].replace(np.NaN,0.0)"
   ]
  },
  {
   "cell_type": "markdown",
   "id": "bc72916c-616b-4dc0-9ea9-808904c9cbf6",
   "metadata": {},
   "source": [
    "### Adding a new column to get the total recharge amount so we can calculate the high value customer."
   ]
  },
  {
   "cell_type": "code",
   "execution_count": 143,
   "id": "7c23dfd8-b63a-4fb9-bb02-35b8b0b7cdd3",
   "metadata": {},
   "outputs": [],
   "source": [
    "df_tel_train['total_rech_6'] = df_tel_train.total_rech_data_6 + df_tel_train.av_rech_amt_data_6\n",
    "df_tel_train['total_rech_7'] = df_tel_train.total_rech_data_7 + df_tel_train.av_rech_amt_data_7\n",
    "df_tel_train['total_rech_8'] = df_tel_train.total_rech_data_8 + df_tel_train.av_rech_amt_data_8"
   ]
  },
  {
   "cell_type": "markdown",
   "id": "88ed66d7-9685-48dd-b1e0-9ce125dd51db",
   "metadata": {},
   "source": [
    " We are assuming that there are three phases of customer lifecycle :\n",
    "- The ‘good’ phase [Month 6 & 7]\n",
    "- The ‘action’ phase [Month 8]\n",
    "- The ‘churn’ phase [Month 9]\n",
    "\n",
    "In this case, we are working over a four-month window, the first two months are the **good** phase, the third month is the **action** phase, while the fourth month is the **churn** phase."
   ]
  },
  {
   "cell_type": "code",
   "execution_count": 152,
   "id": "38078b69-590c-4d0a-a46d-9b9734fb3dc6",
   "metadata": {},
   "outputs": [],
   "source": [
    "#Defining total average recharge amount for good phase for months 6 and 7 (the good phase)\n",
    "df_tel_train['total_avg_rech_amnt_6_7_GPhase'] = (df_tel_train.total_rech_amt_6 + df_tel_train.total_rech_6+ df_tel_train.total_rech_amt_7+ df_tel_train.total_rech_7)/2"
   ]
  },
  {
   "cell_type": "markdown",
   "id": "8294f47a-dc56-4be7-a697-1f865e7de781",
   "metadata": {},
   "source": [
    "### 3.4 - Filtering high valued customers "
   ]
  },
  {
   "cell_type": "code",
   "execution_count": 154,
   "id": "9cd6e459-dc83-4c68-9412-9a6cb8fbf663",
   "metadata": {},
   "outputs": [
    {
     "name": "stdout",
     "output_type": "stream",
     "text": [
      "70 percentile of 6th and 7th months avg recharge amount: 26.0 \n",
      "\n",
      "Dataframe Shape after Filtering High Value Customers: (20599, 135) \n",
      "\n"
     ]
    }
   ],
   "source": [
    "# create a filter for values greater than 70th percentile of total average recharge amount for good phase \n",
    "\n",
    "high_value_filter = df_tel_train.total_avg_rech_amnt_6_7_GPhase.quantile(0.7)\n",
    "print('70 percentile of 6th and 7th months avg recharge amount: '+str(high_value_filter),\"\\n\")\n",
    "\n",
    "telecom_df_high_val_cust = df_tel_train[df_tel_train.total_avg_rech_amnt_6_7_GPhase > high_value_filter]\n",
    "print('Dataframe Shape after Filtering High Value Customers: ' + str(telecom_df_high_val_cust.shape),\"\\n\")"
   ]
  },
  {
   "cell_type": "markdown",
   "id": "7a86840a-0587-4638-b6fa-3a94f22522f8",
   "metadata": {},
   "source": [
    "### 3.5 - Tag churners and remove attributes of the churn phase"
   ]
  },
  {
   "cell_type": "markdown",
   "id": "5af0f3fc-9c40-42d5-8443-cc1f1d8bd6b0",
   "metadata": {},
   "source": [
    "- Now tagging the churned customers (churn = 1, else 0) based on the fourth month as follows: Those who have not made any calls (either incoming or outgoing) AND have not used mobile internet even once in the churn phase. \n",
    "- The attributes we need to use to tag churners are:\n",
    "    - total_ic_mou_8\n",
    "    - total_og_mou_8\n",
    "    - vol_2g_mb_8\n",
    "    - vol_3g_mb_8\n",
    "- After tagging churners, we will remove all the attributes corresponding to the churn phase (all attributes having ‘ _8’, etc. in their names)."
   ]
  },
  {
   "cell_type": "code",
   "execution_count": 159,
   "id": "98bbe066-7d3d-4d0e-bd11-88015eaadad6",
   "metadata": {},
   "outputs": [],
   "source": [
    "#taking all the mentioned columns in a dataframe\n",
    "high_val_cust_8 = ['total_ic_mou_8', 'total_og_mou_8', 'vol_2g_mb_8','vol_3g_mb_8']"
   ]
  },
  {
   "cell_type": "code",
   "execution_count": 161,
   "id": "7606d596-a551-45cf-85ab-3c948405e626",
   "metadata": {},
   "outputs": [
    {
     "data": {
      "text/plain": [
       "total_ic_mou_8    0.0\n",
       "total_og_mou_8    0.0\n",
       "vol_2g_mb_8       0.0\n",
       "vol_3g_mb_8       0.0\n",
       "dtype: float64"
      ]
     },
     "execution_count": 161,
     "metadata": {},
     "output_type": "execute_result"
    }
   ],
   "source": [
    "# Checking the NA/Null values are present or Not\n",
    "df = 100*telecom_df_high_val_cust.loc[:,high_val_cust_8].isnull().sum()/len(telecom_df_high_val_cust)\n",
    "df"
   ]
  },
  {
   "cell_type": "code",
   "execution_count": 163,
   "id": "68b34ff5-4ee7-451b-b06d-c979e3f08779",
   "metadata": {},
   "outputs": [],
   "source": [
    "# Initially set all the values as 0\n",
    "telecom_df_high_val_cust['churn']= 0"
   ]
  },
  {
   "cell_type": "code",
   "execution_count": 165,
   "id": "9445851b-d17b-4267-9da5-7b8c7acdbed5",
   "metadata": {},
   "outputs": [],
   "source": [
    "#is_churned boolean flag for customers where above values are zero\n",
    "is_churned = (telecom_df_high_val_cust.total_ic_mou_8 == 0) & \\\n",
    "             (telecom_df_high_val_cust.total_og_mou_8 == 0) & \\\n",
    "             (telecom_df_high_val_cust.vol_2g_mb_8 ==0) & \\\n",
    "             (telecom_df_high_val_cust.vol_3g_mb_8 ==0)\n",
    "# set all which having is_churned True condition as 1\n",
    "telecom_df_high_val_cust.loc[is_churned,'churn']=1"
   ]
  },
  {
   "cell_type": "code",
   "execution_count": 167,
   "id": "4ef3a758-edcc-4b43-a069-e28356858b98",
   "metadata": {},
   "outputs": [
    {
     "name": "stdout",
     "output_type": "stream",
     "text": [
      "The Percentage of Churned Customers are 5.66 %\n"
     ]
    }
   ],
   "source": [
    "# let us check what's the % of churned customers\n",
    "print(\"The Percentage of Churned Customers are\",round(100*telecom_df_high_val_cust.churn.sum()/len(telecom_df_high_val_cust),2),\"%\")"
   ]
  },
  {
   "cell_type": "code",
   "execution_count": 169,
   "id": "4ddb853f-cfcd-4b3d-bdfc-e37bce22559a",
   "metadata": {},
   "outputs": [
    {
     "data": {
      "text/html": [
       "<div>\n",
       "<style scoped>\n",
       "    .dataframe tbody tr th:only-of-type {\n",
       "        vertical-align: middle;\n",
       "    }\n",
       "\n",
       "    .dataframe tbody tr th {\n",
       "        vertical-align: top;\n",
       "    }\n",
       "\n",
       "    .dataframe thead th {\n",
       "        text-align: right;\n",
       "    }\n",
       "</style>\n",
       "<table border=\"1\" class=\"dataframe\">\n",
       "  <thead>\n",
       "    <tr style=\"text-align: right;\">\n",
       "      <th></th>\n",
       "      <th>arpu_6</th>\n",
       "      <th>arpu_7</th>\n",
       "      <th>arpu_8</th>\n",
       "      <th>onnet_mou_6</th>\n",
       "      <th>onnet_mou_7</th>\n",
       "      <th>onnet_mou_8</th>\n",
       "      <th>offnet_mou_6</th>\n",
       "      <th>offnet_mou_7</th>\n",
       "      <th>offnet_mou_8</th>\n",
       "      <th>roam_ic_mou_6</th>\n",
       "      <th>...</th>\n",
       "      <th>aon</th>\n",
       "      <th>aug_vbc_3g</th>\n",
       "      <th>jul_vbc_3g</th>\n",
       "      <th>jun_vbc_3g</th>\n",
       "      <th>churn_probability</th>\n",
       "      <th>total_rech_6</th>\n",
       "      <th>total_rech_7</th>\n",
       "      <th>total_rech_8</th>\n",
       "      <th>total_avg_rech_amnt_6_7_GPhase</th>\n",
       "      <th>churn</th>\n",
       "    </tr>\n",
       "  </thead>\n",
       "  <tbody>\n",
       "    <tr>\n",
       "      <th>1</th>\n",
       "      <td>0.000</td>\n",
       "      <td>122.787</td>\n",
       "      <td>42.953</td>\n",
       "      <td>0.00</td>\n",
       "      <td>0.00</td>\n",
       "      <td>0.00</td>\n",
       "      <td>0.00</td>\n",
       "      <td>25.99</td>\n",
       "      <td>30.89</td>\n",
       "      <td>0.00</td>\n",
       "      <td>...</td>\n",
       "      <td>710</td>\n",
       "      <td>0.00</td>\n",
       "      <td>0.00</td>\n",
       "      <td>0.00</td>\n",
       "      <td>0</td>\n",
       "      <td>0.0</td>\n",
       "      <td>146.0</td>\n",
       "      <td>0.0</td>\n",
       "      <td>146.0</td>\n",
       "      <td>0</td>\n",
       "    </tr>\n",
       "    <tr>\n",
       "      <th>4</th>\n",
       "      <td>240.708</td>\n",
       "      <td>128.191</td>\n",
       "      <td>101.565</td>\n",
       "      <td>21.28</td>\n",
       "      <td>4.83</td>\n",
       "      <td>6.13</td>\n",
       "      <td>56.99</td>\n",
       "      <td>38.11</td>\n",
       "      <td>9.63</td>\n",
       "      <td>53.64</td>\n",
       "      <td>...</td>\n",
       "      <td>647</td>\n",
       "      <td>0.00</td>\n",
       "      <td>0.00</td>\n",
       "      <td>0.00</td>\n",
       "      <td>0</td>\n",
       "      <td>182.0</td>\n",
       "      <td>198.0</td>\n",
       "      <td>148.0</td>\n",
       "      <td>380.0</td>\n",
       "      <td>0</td>\n",
       "    </tr>\n",
       "    <tr>\n",
       "      <th>7</th>\n",
       "      <td>167.861</td>\n",
       "      <td>167.869</td>\n",
       "      <td>167.866</td>\n",
       "      <td>0.00</td>\n",
       "      <td>0.00</td>\n",
       "      <td>0.00</td>\n",
       "      <td>0.00</td>\n",
       "      <td>0.00</td>\n",
       "      <td>0.00</td>\n",
       "      <td>0.00</td>\n",
       "      <td>...</td>\n",
       "      <td>584</td>\n",
       "      <td>82.26</td>\n",
       "      <td>73.56</td>\n",
       "      <td>177.14</td>\n",
       "      <td>0</td>\n",
       "      <td>199.0</td>\n",
       "      <td>199.0</td>\n",
       "      <td>199.0</td>\n",
       "      <td>398.0</td>\n",
       "      <td>0</td>\n",
       "    </tr>\n",
       "    <tr>\n",
       "      <th>10</th>\n",
       "      <td>445.826</td>\n",
       "      <td>18.310</td>\n",
       "      <td>24.690</td>\n",
       "      <td>16.54</td>\n",
       "      <td>0.00</td>\n",
       "      <td>0.00</td>\n",
       "      <td>104.81</td>\n",
       "      <td>8.16</td>\n",
       "      <td>2.36</td>\n",
       "      <td>18.56</td>\n",
       "      <td>...</td>\n",
       "      <td>468</td>\n",
       "      <td>1.05</td>\n",
       "      <td>0.00</td>\n",
       "      <td>18.95</td>\n",
       "      <td>0</td>\n",
       "      <td>99.0</td>\n",
       "      <td>0.0</td>\n",
       "      <td>0.0</td>\n",
       "      <td>99.0</td>\n",
       "      <td>0</td>\n",
       "    </tr>\n",
       "    <tr>\n",
       "      <th>15</th>\n",
       "      <td>580.549</td>\n",
       "      <td>377.294</td>\n",
       "      <td>338.286</td>\n",
       "      <td>10.43</td>\n",
       "      <td>24.99</td>\n",
       "      <td>194.43</td>\n",
       "      <td>317.11</td>\n",
       "      <td>341.79</td>\n",
       "      <td>197.09</td>\n",
       "      <td>0.00</td>\n",
       "      <td>...</td>\n",
       "      <td>602</td>\n",
       "      <td>0.00</td>\n",
       "      <td>0.00</td>\n",
       "      <td>0.00</td>\n",
       "      <td>0</td>\n",
       "      <td>155.0</td>\n",
       "      <td>0.0</td>\n",
       "      <td>155.0</td>\n",
       "      <td>155.0</td>\n",
       "      <td>0</td>\n",
       "    </tr>\n",
       "    <tr>\n",
       "      <th>...</th>\n",
       "      <td>...</td>\n",
       "      <td>...</td>\n",
       "      <td>...</td>\n",
       "      <td>...</td>\n",
       "      <td>...</td>\n",
       "      <td>...</td>\n",
       "      <td>...</td>\n",
       "      <td>...</td>\n",
       "      <td>...</td>\n",
       "      <td>...</td>\n",
       "      <td>...</td>\n",
       "      <td>...</td>\n",
       "      <td>...</td>\n",
       "      <td>...</td>\n",
       "      <td>...</td>\n",
       "      <td>...</td>\n",
       "      <td>...</td>\n",
       "      <td>...</td>\n",
       "      <td>...</td>\n",
       "      <td>...</td>\n",
       "      <td>...</td>\n",
       "    </tr>\n",
       "    <tr>\n",
       "      <th>69989</th>\n",
       "      <td>196.695</td>\n",
       "      <td>298.645</td>\n",
       "      <td>192.440</td>\n",
       "      <td>1.05</td>\n",
       "      <td>0.00</td>\n",
       "      <td>5.83</td>\n",
       "      <td>44.74</td>\n",
       "      <td>32.16</td>\n",
       "      <td>30.93</td>\n",
       "      <td>0.00</td>\n",
       "      <td>...</td>\n",
       "      <td>251</td>\n",
       "      <td>107.77</td>\n",
       "      <td>112.70</td>\n",
       "      <td>242.18</td>\n",
       "      <td>0</td>\n",
       "      <td>101.0</td>\n",
       "      <td>234.0</td>\n",
       "      <td>92.0</td>\n",
       "      <td>335.0</td>\n",
       "      <td>0</td>\n",
       "    </tr>\n",
       "    <tr>\n",
       "      <th>69993</th>\n",
       "      <td>235.524</td>\n",
       "      <td>195.633</td>\n",
       "      <td>129.598</td>\n",
       "      <td>45.08</td>\n",
       "      <td>94.31</td>\n",
       "      <td>8.34</td>\n",
       "      <td>111.51</td>\n",
       "      <td>236.61</td>\n",
       "      <td>91.54</td>\n",
       "      <td>0.00</td>\n",
       "      <td>...</td>\n",
       "      <td>1507</td>\n",
       "      <td>0.00</td>\n",
       "      <td>16.53</td>\n",
       "      <td>18.84</td>\n",
       "      <td>0</td>\n",
       "      <td>328.0</td>\n",
       "      <td>44.0</td>\n",
       "      <td>0.0</td>\n",
       "      <td>372.0</td>\n",
       "      <td>0</td>\n",
       "    </tr>\n",
       "    <tr>\n",
       "      <th>69994</th>\n",
       "      <td>15.760</td>\n",
       "      <td>410.924</td>\n",
       "      <td>329.136</td>\n",
       "      <td>0.00</td>\n",
       "      <td>7.36</td>\n",
       "      <td>10.93</td>\n",
       "      <td>0.00</td>\n",
       "      <td>488.46</td>\n",
       "      <td>381.64</td>\n",
       "      <td>14.96</td>\n",
       "      <td>...</td>\n",
       "      <td>221</td>\n",
       "      <td>0.00</td>\n",
       "      <td>0.00</td>\n",
       "      <td>0.00</td>\n",
       "      <td>0</td>\n",
       "      <td>0.0</td>\n",
       "      <td>142.0</td>\n",
       "      <td>18.0</td>\n",
       "      <td>142.0</td>\n",
       "      <td>0</td>\n",
       "    </tr>\n",
       "    <tr>\n",
       "      <th>69997</th>\n",
       "      <td>238.575</td>\n",
       "      <td>245.414</td>\n",
       "      <td>145.062</td>\n",
       "      <td>14.01</td>\n",
       "      <td>7.64</td>\n",
       "      <td>6.71</td>\n",
       "      <td>30.34</td>\n",
       "      <td>16.68</td>\n",
       "      <td>12.56</td>\n",
       "      <td>25.06</td>\n",
       "      <td>...</td>\n",
       "      <td>277</td>\n",
       "      <td>664.25</td>\n",
       "      <td>1402.96</td>\n",
       "      <td>990.97</td>\n",
       "      <td>0</td>\n",
       "      <td>180.0</td>\n",
       "      <td>253.0</td>\n",
       "      <td>146.0</td>\n",
       "      <td>433.0</td>\n",
       "      <td>0</td>\n",
       "    </tr>\n",
       "    <tr>\n",
       "      <th>69998</th>\n",
       "      <td>168.269</td>\n",
       "      <td>42.815</td>\n",
       "      <td>167.961</td>\n",
       "      <td>0.00</td>\n",
       "      <td>0.00</td>\n",
       "      <td>0.00</td>\n",
       "      <td>0.00</td>\n",
       "      <td>0.00</td>\n",
       "      <td>0.00</td>\n",
       "      <td>0.00</td>\n",
       "      <td>...</td>\n",
       "      <td>1876</td>\n",
       "      <td>0.00</td>\n",
       "      <td>0.00</td>\n",
       "      <td>0.00</td>\n",
       "      <td>0</td>\n",
       "      <td>199.0</td>\n",
       "      <td>0.0</td>\n",
       "      <td>199.0</td>\n",
       "      <td>199.0</td>\n",
       "      <td>0</td>\n",
       "    </tr>\n",
       "  </tbody>\n",
       "</table>\n",
       "<p>20599 rows × 136 columns</p>\n",
       "</div>"
      ],
      "text/plain": [
       "        arpu_6   arpu_7   arpu_8  onnet_mou_6  onnet_mou_7  onnet_mou_8  \\\n",
       "1        0.000  122.787   42.953         0.00         0.00         0.00   \n",
       "4      240.708  128.191  101.565        21.28         4.83         6.13   \n",
       "7      167.861  167.869  167.866         0.00         0.00         0.00   \n",
       "10     445.826   18.310   24.690        16.54         0.00         0.00   \n",
       "15     580.549  377.294  338.286        10.43        24.99       194.43   \n",
       "...        ...      ...      ...          ...          ...          ...   \n",
       "69989  196.695  298.645  192.440         1.05         0.00         5.83   \n",
       "69993  235.524  195.633  129.598        45.08        94.31         8.34   \n",
       "69994   15.760  410.924  329.136         0.00         7.36        10.93   \n",
       "69997  238.575  245.414  145.062        14.01         7.64         6.71   \n",
       "69998  168.269   42.815  167.961         0.00         0.00         0.00   \n",
       "\n",
       "       offnet_mou_6  offnet_mou_7  offnet_mou_8  roam_ic_mou_6  ...   aon  \\\n",
       "1              0.00         25.99         30.89           0.00  ...   710   \n",
       "4             56.99         38.11          9.63          53.64  ...   647   \n",
       "7              0.00          0.00          0.00           0.00  ...   584   \n",
       "10           104.81          8.16          2.36          18.56  ...   468   \n",
       "15           317.11        341.79        197.09           0.00  ...   602   \n",
       "...             ...           ...           ...            ...  ...   ...   \n",
       "69989         44.74         32.16         30.93           0.00  ...   251   \n",
       "69993        111.51        236.61         91.54           0.00  ...  1507   \n",
       "69994          0.00        488.46        381.64          14.96  ...   221   \n",
       "69997         30.34         16.68         12.56          25.06  ...   277   \n",
       "69998          0.00          0.00          0.00           0.00  ...  1876   \n",
       "\n",
       "       aug_vbc_3g  jul_vbc_3g  jun_vbc_3g  churn_probability  total_rech_6  \\\n",
       "1            0.00        0.00        0.00                  0           0.0   \n",
       "4            0.00        0.00        0.00                  0         182.0   \n",
       "7           82.26       73.56      177.14                  0         199.0   \n",
       "10           1.05        0.00       18.95                  0          99.0   \n",
       "15           0.00        0.00        0.00                  0         155.0   \n",
       "...           ...         ...         ...                ...           ...   \n",
       "69989      107.77      112.70      242.18                  0         101.0   \n",
       "69993        0.00       16.53       18.84                  0         328.0   \n",
       "69994        0.00        0.00        0.00                  0           0.0   \n",
       "69997      664.25     1402.96      990.97                  0         180.0   \n",
       "69998        0.00        0.00        0.00                  0         199.0   \n",
       "\n",
       "       total_rech_7  total_rech_8  total_avg_rech_amnt_6_7_GPhase  churn  \n",
       "1             146.0           0.0                           146.0      0  \n",
       "4             198.0         148.0                           380.0      0  \n",
       "7             199.0         199.0                           398.0      0  \n",
       "10              0.0           0.0                            99.0      0  \n",
       "15              0.0         155.0                           155.0      0  \n",
       "...             ...           ...                             ...    ...  \n",
       "69989         234.0          92.0                           335.0      0  \n",
       "69993          44.0           0.0                           372.0      0  \n",
       "69994         142.0          18.0                           142.0      0  \n",
       "69997         253.0         146.0                           433.0      0  \n",
       "69998           0.0         199.0                           199.0      0  \n",
       "\n",
       "[20599 rows x 136 columns]"
      ]
     },
     "execution_count": 169,
     "metadata": {},
     "output_type": "execute_result"
    }
   ],
   "source": [
    "telecom_df_high_val_cust"
   ]
  },
  {
   "cell_type": "markdown",
   "id": "b8b20376-e6bf-4fa2-93c6-e78e3a50b941",
   "metadata": {},
   "source": [
    "# <span style='color:Blue'>4. Exploratory data analysis </span>"
   ]
  },
  {
   "cell_type": "code",
   "execution_count": 235,
   "id": "797024c4-226f-41ba-b617-72e08aab9bbf",
   "metadata": {},
   "outputs": [],
   "source": [
    "# create box plot function for  6th, 7th and 8th month variables\n",
    "def plot_box_chart(attribute):\n",
    "    plt.figure(figsize=(20,16))\n",
    "    df = telecom_df_high_val_cust\n",
    "    plt.subplot(2,3,1)\n",
    "    sns.boxplot(data=df, y=attribute+\"_6\",x=\"churn\",hue=\"churn\",\n",
    "                showfliers=False,palette=(\"plasma\"))\n",
    "    plt.subplot(2,3,2)\n",
    "    sns.boxplot(data=df, y=attribute+\"_7\",x=\"churn\",hue=\"churn\",\n",
    "                showfliers=False,palette=(\"plasma\"))\n",
    "    plt.subplot(2,3,3)\n",
    "    sns.boxplot(data=df, y=attribute+\"_8\",x=\"churn\",hue=\"churn\",\n",
    "                showfliers=False,palette=(\"plasma\"))\n",
    "    plt.show()"
   ]
  },
  {
   "cell_type": "markdown",
   "id": "76a52615-b9c9-4cbf-8116-389f7b567620",
   "metadata": {},
   "source": [
    "### 4.1 - Chrun Probability"
   ]
  },
  {
   "cell_type": "code",
   "execution_count": 173,
   "id": "26ea22ce-b853-4d74-9347-ff1aea04e2b2",
   "metadata": {},
   "outputs": [
    {
     "data": {
      "text/plain": [
       "churn_probability\n",
       "0    62867\n",
       "1     7132\n",
       "Name: count, dtype: int64"
      ]
     },
     "execution_count": 173,
     "metadata": {},
     "output_type": "execute_result"
    }
   ],
   "source": [
    "df_tel_train['churn_probability'].value_counts()"
   ]
  },
  {
   "cell_type": "code",
   "execution_count": 177,
   "id": "1168df04-8e13-4cde-b8c8-9f0e50e398d2",
   "metadata": {},
   "outputs": [
    {
     "data": {
      "image/png": "[encoded data removed]",
      "text/plain": [
       "<Figure size 640x480 with 1 Axes>"
      ]
     },
     "metadata": {},
     "output_type": "display_data"
    }
   ],
   "source": [
    "#Distribution for the churn probability\n",
    "sns.histplot(df_tel_train['churn_probability'])\n",
    "plt.title(\"Churn Probability\")\n",
    "plt.show()"
   ]
  },
  {
   "cell_type": "code",
   "execution_count": 179,
   "id": "769f6f70-41a9-4950-a024-dade646439ed",
   "metadata": {},
   "outputs": [
    {
     "data": {
      "text/plain": [
       "11.34"
      ]
     },
     "execution_count": 179,
     "metadata": {},
     "output_type": "execute_result"
    }
   ],
   "source": [
    "round(((7132)/62867)*100,2)"
   ]
  },
  {
   "cell_type": "markdown",
   "id": "38ab1924-fa7c-4f90-a2c8-6de19e9ff594",
   "metadata": {},
   "source": [
    "#### The churn rate is 11.34%. The target variable is not very well balanced so we will have to see how well the various classification models perform on this dataset. Given the imbalance, boosting models may perform better when it comes to precision and recall."
   ]
  },
  {
   "cell_type": "markdown",
   "id": "caa5bfdf-b234-4111-a459-c223a4161a48",
   "metadata": {},
   "source": [
    "## 4.2 - Recharge amount related Features"
   ]
  },
  {
   "cell_type": "code",
   "execution_count": 253,
   "id": "3afd57f3-45d1-4992-95bd-1ddd92309551",
   "metadata": {},
   "outputs": [
    {
     "data": {
      "text/plain": [
       "['total_rech_amt_6',\n",
       " 'total_rech_amt_7',\n",
       " 'total_rech_amt_8',\n",
       " 'max_rech_amt_6',\n",
       " 'max_rech_amt_7',\n",
       " 'max_rech_amt_8',\n",
       " 'av_rech_amt_data_6',\n",
       " 'av_rech_amt_data_7',\n",
       " 'av_rech_amt_data_8']"
      ]
     },
     "execution_count": 253,
     "metadata": {},
     "output_type": "execute_result"
    }
   ],
   "source": [
    "#Lets extract the columns containing recharge amount in their variable name\n",
    "recharge_amnt_columns =  telecom_df_high_val_cust.columns[telecom_df_high_val_cust.columns.str.contains('rech_amt')]\n",
    "recharge_amnt_columns.tolist()"
   ]
  },
  {
   "cell_type": "markdown",
   "id": "f2ae04a7-e725-450b-9afb-77920a5bc401",
   "metadata": {},
   "source": [
    "### 4.2.1 Box Plot - total_rech_amt"
   ]
  },
  {
   "cell_type": "code",
   "execution_count": 255,
   "id": "525ba6e4-2538-426e-bcaa-e5927dc43064",
   "metadata": {},
   "outputs": [
    {
     "data": {
      "image/png": "[encoded data removed]",
      "text/plain": [
       "<Figure size 2000x1600 with 3 Axes>"
      ]
     },
     "metadata": {},
     "output_type": "display_data"
    }
   ],
   "source": [
    "# Ploting for total recharge amount:\n",
    "plot_box_chart('total_rech_amt')"
   ]
  },
  {
   "cell_type": "markdown",
   "id": "051ae029-dcb2-4db2-b8f5-6e4e37f77150",
   "metadata": {},
   "source": [
    "#### Observations : We can see a drop in the total recharge amount for churned customers in the 8th Month (Action Phase)."
   ]
  },
  {
   "cell_type": "markdown",
   "id": "fa984aa2-92d4-4ed5-ba66-be43d6aae5c8",
   "metadata": {},
   "source": [
    "## 4.2.2 Box Plot - total_rech"
   ]
  },
  {
   "cell_type": "code",
   "execution_count": 268,
   "id": "a3c020a0-954d-400e-bf82-5a2573d097eb",
   "metadata": {},
   "outputs": [
    {
     "data": {
      "image/png": "[encoded data removed]",
      "text/plain": [
       "<Figure size 2000x1600 with 3 Axes>"
      ]
     },
     "metadata": {},
     "output_type": "display_data"
    }
   ],
   "source": [
    "# Ploting for total recharge amount for data:\n",
    "plot_box_chart('total_rech')"
   ]
  },
  {
   "cell_type": "markdown",
   "id": "2717ff39-0a70-409d-bb30-b237db686970",
   "metadata": {},
   "source": [
    "### 4.2.3 Box Plot - max_rech_amt"
   ]
  },
  {
   "cell_type": "code",
   "execution_count": 273,
   "id": "d20de711-996b-48f6-9d54-0949bdfb76d3",
   "metadata": {},
   "outputs": [
    {
     "data": {
      "image/png": "[encoded data removed]",
      "text/plain": [
       "<Figure size 2000x1600 with 3 Axes>"
      ]
     },
     "metadata": {},
     "output_type": "display_data"
    }
   ],
   "source": [
    "# Ploting for maximum recharge amount for data:\n",
    "plot_box_chart('max_rech_amt')"
   ]
  },
  {
   "cell_type": "markdown",
   "id": "ff828dd1-728c-430e-9b60-20982fdb245e",
   "metadata": {},
   "source": [
    "#### Observations : We can see that there is a huge drop in maximum recharge amount for data in the 8th month (action phase) for churned customers."
   ]
  },
  {
   "cell_type": "code",
   "execution_count": 280,
   "id": "cdb9e225-df53-4e3c-aa12-41dbc4a95967",
   "metadata": {},
   "outputs": [
    {
     "data": {
      "image/png": "[encoded data removed]",
      "text/plain": [
       "<Figure size 2000x1600 with 3 Axes>"
      ]
     },
     "metadata": {},
     "output_type": "display_data"
    }
   ],
   "source": [
    "#Ploting for Total recharge for Number:\n",
    "plot_box_chart('total_rech_num')"
   ]
  },
  {
   "cell_type": "markdown",
   "id": "65958bc7-7d8a-454b-873c-fbcab2303cee",
   "metadata": {},
   "source": [
    "#### Observations : We can see that there is a huge drop in total recharge number also in the 8th month (action phase) for churned customers."
   ]
  },
  {
   "cell_type": "markdown",
   "id": "2d43543e-2212-46ec-8546-a8ab4d5f905b",
   "metadata": {},
   "source": [
    "## 4.3 - 2G and 3G usage related Features"
   ]
  },
  {
   "cell_type": "code",
   "execution_count": 285,
   "id": "eb672f3a-7721-4d14-9d91-f5baf0588f31",
   "metadata": {},
   "outputs": [],
   "source": [
    "usage_2g_and_3g = telecom_df_high_val_cust.columns[telecom_df_high_val_cust.columns.str.contains('2g|3g',regex=True)]"
   ]
  },
  {
   "cell_type": "markdown",
   "id": "bb5bf550-0fdd-4779-9a17-d53e5adacd93",
   "metadata": {},
   "source": [
    "### 4.3.1 Box Plot - vol_2g_mb"
   ]
  },
  {
   "cell_type": "code",
   "execution_count": 287,
   "id": "13335ad0-46ef-4a2b-99f8-45d3ec463436",
   "metadata": {},
   "outputs": [
    {
     "data": {
      "image/png": "[encoded data removed]",
      "text/plain": [
       "<Figure size 2000x1600 with 3 Axes>"
      ]
     },
     "metadata": {},
     "output_type": "display_data"
    }
   ],
   "source": [
    "# Ploting for volume of 2G and 3G usage columns:\n",
    "plot_box_chart('vol_2g_mb')"
   ]
  },
  {
   "cell_type": "markdown",
   "id": "0b6fb857-9e9e-4be1-b4f2-2e2192fd0078",
   "metadata": {},
   "source": [
    "### 4.3.3 Box Plot - vol_3g_mb"
   ]
  },
  {
   "cell_type": "code",
   "execution_count": 292,
   "id": "e6146fdd-224a-4685-8f00-9f511c287923",
   "metadata": {},
   "outputs": [
    {
     "data": {
      "image/png": "[encoded data removed]",
      "text/plain": [
       "<Figure size 2000x1600 with 3 Axes>"
      ]
     },
     "metadata": {},
     "output_type": "display_data"
    }
   ],
   "source": [
    "plot_box_chart('vol_3g_mb')"
   ]
  },
  {
   "cell_type": "markdown",
   "id": "8917bb4c-28a5-47af-a810-3073efa0a8c4",
   "metadata": {},
   "source": [
    "##### Observations : We have two observations from above:\n",
    "- 2G and 3G usage for churned customers drops in 8th month\n",
    "- We also see that 2G/3G usage is higher for non-churned customers indicating that churned customers might be from areas where 2G/3G service is not properly available."
   ]
  },
  {
   "cell_type": "code",
   "execution_count": 295,
   "id": "f37a38b9-3913-470e-a930-95bedf7cf060",
   "metadata": {},
   "outputs": [
    {
     "data": {
      "text/plain": [
       "['monthly_2g_6',\n",
       " 'monthly_2g_7',\n",
       " 'monthly_2g_8',\n",
       " 'monthly_3g_6',\n",
       " 'monthly_3g_7',\n",
       " 'monthly_3g_8']"
      ]
     },
     "execution_count": 295,
     "metadata": {},
     "output_type": "execute_result"
    }
   ],
   "source": [
    "# let's check monthly 2G/3G service schemes\n",
    "monthly_subcription_2g_3g = telecom_df_high_val_cust.columns[telecom_df_high_val_cust.columns.str.contains('monthly_2g|monthly_3g',regex=True)]\n",
    "monthly_subcription_2g_3g.tolist()"
   ]
  },
  {
   "cell_type": "code",
   "execution_count": 298,
   "id": "6e438a37-40c7-4467-bce4-0b9174815253",
   "metadata": {},
   "outputs": [
    {
     "data": {
      "text/plain": [
       "monthly_2g_6    0.0\n",
       "monthly_2g_7    0.0\n",
       "monthly_2g_8    0.0\n",
       "monthly_3g_6    0.0\n",
       "monthly_3g_7    0.0\n",
       "monthly_3g_8    0.0\n",
       "dtype: float64"
      ]
     },
     "execution_count": 298,
     "metadata": {},
     "output_type": "execute_result"
    }
   ],
   "source": [
    "#Checking Null value\n",
    "100*telecom_df_high_val_cust.loc[:,monthly_subcription_2g_3g].isnull().sum()/len(telecom_df_high_val_cust.loc[:,monthly_subcription_2g_3g])"
   ]
  },
  {
   "cell_type": "code",
   "execution_count": 306,
   "id": "63c2b3dd-7805-40f7-96f8-f89554beafc2",
   "metadata": {},
   "outputs": [
    {
     "name": "stdout",
     "output_type": "stream",
     "text": [
      "<class 'pandas.core.frame.DataFrame'>\n",
      "Index: 20599 entries, 1 to 69998\n",
      "Data columns (total 6 columns):\n",
      " #   Column        Non-Null Count  Dtype\n",
      "---  ------        --------------  -----\n",
      " 0   monthly_2g_6  20599 non-null  int64\n",
      " 1   monthly_2g_7  20599 non-null  int64\n",
      " 2   monthly_2g_8  20599 non-null  int64\n",
      " 3   monthly_3g_6  20599 non-null  int64\n",
      " 4   monthly_3g_7  20599 non-null  int64\n",
      " 5   monthly_3g_8  20599 non-null  int64\n",
      "dtypes: int64(6)\n",
      "memory usage: 1.6 MB\n"
     ]
    }
   ],
   "source": [
    "telecom_df_high_val_cust[monthly_subcription_2g_3g].info()"
   ]
  },
  {
   "cell_type": "code",
   "execution_count": 310,
   "id": "0982d5fc-9804-4490-ac44-7b6bd03903a9",
   "metadata": {},
   "outputs": [],
   "source": [
    "#Plotting Bar Chart\n",
    "def plot_mean_bar_chart(df,columns_list):\n",
    "    df_0 = df[df.churn==0].filter(columns_list)\n",
    "    df_1 = df[df.churn==1].filter(columns_list)\n",
    "\n",
    "    mean_df_0 = pd.DataFrame([df_0.mean()],index=['Non Churn'])\n",
    "    mean_df_1 = pd.DataFrame([df_1.mean()],index=['Churn'])\n",
    "\n",
    "    frames = [mean_df_0, mean_df_1]\n",
    "    mean_bar = pd.concat(frames)\n",
    "\n",
    "    mean_bar.T.plot.bar(figsize=(10,5),rot=0)\n",
    "    plt.show()\n",
    "    \n",
    "    return mean_bar"
   ]
  },
  {
   "cell_type": "code",
   "execution_count": 312,
   "id": "99d73cce-57ba-493f-b1bd-667707d02632",
   "metadata": {},
   "outputs": [
    {
     "data": {
      "image/png": "[encoded data removed]",
      "text/plain": [
       "<Figure size 1000x500 with 1 Axes>"
      ]
     },
     "metadata": {},
     "output_type": "display_data"
    },
    {
     "data": {
      "text/html": [
       "<div>\n",
       "<style scoped>\n",
       "    .dataframe tbody tr th:only-of-type {\n",
       "        vertical-align: middle;\n",
       "    }\n",
       "\n",
       "    .dataframe tbody tr th {\n",
       "        vertical-align: top;\n",
       "    }\n",
       "\n",
       "    .dataframe thead th {\n",
       "        text-align: right;\n",
       "    }\n",
       "</style>\n",
       "<table border=\"1\" class=\"dataframe\">\n",
       "  <thead>\n",
       "    <tr style=\"text-align: right;\">\n",
       "      <th></th>\n",
       "      <th>monthly_2g_6</th>\n",
       "      <th>monthly_2g_7</th>\n",
       "      <th>monthly_2g_8</th>\n",
       "      <th>monthly_3g_6</th>\n",
       "      <th>monthly_3g_7</th>\n",
       "      <th>monthly_3g_8</th>\n",
       "    </tr>\n",
       "  </thead>\n",
       "  <tbody>\n",
       "    <tr>\n",
       "      <th>Non Churn</th>\n",
       "      <td>0.273078</td>\n",
       "      <td>0.294484</td>\n",
       "      <td>0.246733</td>\n",
       "      <td>0.255892</td>\n",
       "      <td>0.270711</td>\n",
       "      <td>0.259648</td>\n",
       "    </tr>\n",
       "    <tr>\n",
       "      <th>Churn</th>\n",
       "      <td>0.208584</td>\n",
       "      <td>0.098712</td>\n",
       "      <td>0.000000</td>\n",
       "      <td>0.286695</td>\n",
       "      <td>0.154506</td>\n",
       "      <td>0.000000</td>\n",
       "    </tr>\n",
       "  </tbody>\n",
       "</table>\n",
       "</div>"
      ],
      "text/plain": [
       "           monthly_2g_6  monthly_2g_7  monthly_2g_8  monthly_3g_6  \\\n",
       "Non Churn      0.273078      0.294484      0.246733      0.255892   \n",
       "Churn          0.208584      0.098712      0.000000      0.286695   \n",
       "\n",
       "           monthly_3g_7  monthly_3g_8  \n",
       "Non Churn      0.270711      0.259648  \n",
       "Churn          0.154506      0.000000  "
      ]
     },
     "execution_count": 312,
     "metadata": {},
     "output_type": "execute_result"
    }
   ],
   "source": [
    "#Plotting monthly 2g and 3g\n",
    "plot_mean_bar_chart(telecom_df_high_val_cust, monthly_subcription_2g_3g)"
   ]
  },
  {
   "cell_type": "markdown",
   "id": "f5cc3c18-e7a7-4055-a971-535ae3bd5950",
   "metadata": {},
   "source": [
    "#### Observations : Again we can see a drop in monthly subscription for churned customers in 8th Month."
   ]
  },
  {
   "cell_type": "markdown",
   "id": "5d9ecdd2-37c6-4d75-8391-59ead3df9c44",
   "metadata": {},
   "source": [
    "### Data Preparation For Model Building"
   ]
  },
  {
   "cell_type": "code",
   "execution_count": 358,
   "id": "03333eb1-bd9c-4e6e-866d-02e846f20394",
   "metadata": {},
   "outputs": [
    {
     "name": "stdout",
     "output_type": "stream",
     "text": [
      "<class 'pandas.core.frame.DataFrame'>\n",
      "RangeIndex: 69999 entries, 0 to 69998\n",
      "Data columns (total 135 columns):\n",
      " #    Column                          Dtype  \n",
      "---   ------                          -----  \n",
      " 0    arpu_6                          float64\n",
      " 1    arpu_7                          float64\n",
      " 2    arpu_8                          float64\n",
      " 3    onnet_mou_6                     float64\n",
      " 4    onnet_mou_7                     float64\n",
      " 5    onnet_mou_8                     float64\n",
      " 6    offnet_mou_6                    float64\n",
      " 7    offnet_mou_7                    float64\n",
      " 8    offnet_mou_8                    float64\n",
      " 9    roam_ic_mou_6                   float64\n",
      " 10   roam_ic_mou_7                   float64\n",
      " 11   roam_ic_mou_8                   float64\n",
      " 12   roam_og_mou_6                   float64\n",
      " 13   roam_og_mou_7                   float64\n",
      " 14   roam_og_mou_8                   float64\n",
      " 15   loc_og_t2t_mou_6                float64\n",
      " 16   loc_og_t2t_mou_7                float64\n",
      " 17   loc_og_t2t_mou_8                float64\n",
      " 18   loc_og_t2m_mou_6                float64\n",
      " 19   loc_og_t2m_mou_7                float64\n",
      " 20   loc_og_t2m_mou_8                float64\n",
      " 21   loc_og_t2f_mou_6                float64\n",
      " 22   loc_og_t2f_mou_7                float64\n",
      " 23   loc_og_t2f_mou_8                float64\n",
      " 24   loc_og_t2c_mou_6                float64\n",
      " 25   loc_og_t2c_mou_7                float64\n",
      " 26   loc_og_t2c_mou_8                float64\n",
      " 27   loc_og_mou_6                    float64\n",
      " 28   loc_og_mou_7                    float64\n",
      " 29   loc_og_mou_8                    float64\n",
      " 30   std_og_t2t_mou_6                float64\n",
      " 31   std_og_t2t_mou_7                float64\n",
      " 32   std_og_t2t_mou_8                float64\n",
      " 33   std_og_t2m_mou_6                float64\n",
      " 34   std_og_t2m_mou_7                float64\n",
      " 35   std_og_t2m_mou_8                float64\n",
      " 36   std_og_t2f_mou_6                float64\n",
      " 37   std_og_t2f_mou_7                float64\n",
      " 38   std_og_t2f_mou_8                float64\n",
      " 39   std_og_mou_6                    float64\n",
      " 40   std_og_mou_7                    float64\n",
      " 41   std_og_mou_8                    float64\n",
      " 42   isd_og_mou_6                    float64\n",
      " 43   isd_og_mou_7                    float64\n",
      " 44   isd_og_mou_8                    float64\n",
      " 45   spl_og_mou_6                    float64\n",
      " 46   spl_og_mou_7                    float64\n",
      " 47   spl_og_mou_8                    float64\n",
      " 48   og_others_6                     float64\n",
      " 49   og_others_7                     float64\n",
      " 50   og_others_8                     float64\n",
      " 51   total_og_mou_6                  float64\n",
      " 52   total_og_mou_7                  float64\n",
      " 53   total_og_mou_8                  float64\n",
      " 54   loc_ic_t2t_mou_6                float64\n",
      " 55   loc_ic_t2t_mou_7                float64\n",
      " 56   loc_ic_t2t_mou_8                float64\n",
      " 57   loc_ic_t2m_mou_6                float64\n",
      " 58   loc_ic_t2m_mou_7                float64\n",
      " 59   loc_ic_t2m_mou_8                float64\n",
      " 60   loc_ic_t2f_mou_6                float64\n",
      " 61   loc_ic_t2f_mou_7                float64\n",
      " 62   loc_ic_t2f_mou_8                float64\n",
      " 63   loc_ic_mou_6                    float64\n",
      " 64   loc_ic_mou_7                    float64\n",
      " 65   loc_ic_mou_8                    float64\n",
      " 66   std_ic_t2t_mou_6                float64\n",
      " 67   std_ic_t2t_mou_7                float64\n",
      " 68   std_ic_t2t_mou_8                float64\n",
      " 69   std_ic_t2m_mou_6                float64\n",
      " 70   std_ic_t2m_mou_7                float64\n",
      " 71   std_ic_t2m_mou_8                float64\n",
      " 72   std_ic_t2f_mou_6                float64\n",
      " 73   std_ic_t2f_mou_7                float64\n",
      " 74   std_ic_t2f_mou_8                float64\n",
      " 75   std_ic_mou_6                    float64\n",
      " 76   std_ic_mou_7                    float64\n",
      " 77   std_ic_mou_8                    float64\n",
      " 78   total_ic_mou_6                  float64\n",
      " 79   total_ic_mou_7                  float64\n",
      " 80   total_ic_mou_8                  float64\n",
      " 81   spl_ic_mou_6                    float64\n",
      " 82   spl_ic_mou_7                    float64\n",
      " 83   spl_ic_mou_8                    float64\n",
      " 84   isd_ic_mou_6                    float64\n",
      " 85   isd_ic_mou_7                    float64\n",
      " 86   isd_ic_mou_8                    float64\n",
      " 87   ic_others_6                     float64\n",
      " 88   ic_others_7                     float64\n",
      " 89   ic_others_8                     float64\n",
      " 90   total_rech_num_6                int64  \n",
      " 91   total_rech_num_7                int64  \n",
      " 92   total_rech_num_8                int64  \n",
      " 93   total_rech_amt_6                float64\n",
      " 94   total_rech_amt_7                float64\n",
      " 95   total_rech_amt_8                float64\n",
      " 96   max_rech_amt_6                  int64  \n",
      " 97   max_rech_amt_7                  int64  \n",
      " 98   max_rech_amt_8                  int64  \n",
      " 99   last_day_rch_amt_6              int64  \n",
      " 100  last_day_rch_amt_7              int64  \n",
      " 101  last_day_rch_amt_8              int64  \n",
      " 102  total_rech_data_6               float64\n",
      " 103  total_rech_data_7               float64\n",
      " 104  total_rech_data_8               float64\n",
      " 105  av_rech_amt_data_6              float64\n",
      " 106  av_rech_amt_data_7              float64\n",
      " 107  av_rech_amt_data_8              float64\n",
      " 108  vol_2g_mb_6                     float64\n",
      " 109  vol_2g_mb_7                     float64\n",
      " 110  vol_2g_mb_8                     float64\n",
      " 111  vol_3g_mb_6                     float64\n",
      " 112  vol_3g_mb_7                     float64\n",
      " 113  vol_3g_mb_8                     float64\n",
      " 114  monthly_2g_6                    int64  \n",
      " 115  monthly_2g_7                    int64  \n",
      " 116  monthly_2g_8                    int64  \n",
      " 117  sachet_2g_6                     int64  \n",
      " 118  sachet_2g_7                     int64  \n",
      " 119  sachet_2g_8                     int64  \n",
      " 120  monthly_3g_6                    int64  \n",
      " 121  monthly_3g_7                    int64  \n",
      " 122  monthly_3g_8                    int64  \n",
      " 123  sachet_3g_6                     int64  \n",
      " 124  sachet_3g_7                     int64  \n",
      " 125  sachet_3g_8                     int64  \n",
      " 126  aon                             int64  \n",
      " 127  aug_vbc_3g                      float64\n",
      " 128  jul_vbc_3g                      float64\n",
      " 129  jun_vbc_3g                      float64\n",
      " 130  churn_probability               int64  \n",
      " 131  total_rech_6                    float64\n",
      " 132  total_rech_7                    float64\n",
      " 133  total_rech_8                    float64\n",
      " 134  total_avg_rech_amnt_6_7_GPhase  float64\n",
      "dtypes: float64(112), int64(23)\n",
      "memory usage: 72.1 MB\n"
     ]
    }
   ],
   "source": [
    "#Display all the information about the Dataset\n",
    "df_tel_train.info(verbose=True)"
   ]
  },
  {
   "cell_type": "code",
   "execution_count": 366,
   "id": "0ff874ba-5d94-4f3b-a66d-b63505ac708c",
   "metadata": {},
   "outputs": [],
   "source": [
    "# Train-test split\n",
    "df_train, df_test = train_test_split(df_tel_train,train_size=0.70,test_size=0.30,random_state=42)\n"
   ]
  },
  {
   "cell_type": "code",
   "execution_count": 368,
   "id": "98b070fa-af7c-4c18-9cbf-583e25f69ecc",
   "metadata": {},
   "outputs": [],
   "source": [
    "# Dividing into X and y sets for model building\n",
    "y_train = df_train.pop('churn_probability')\n",
    "X_train = df_train\n",
    "y_test = df_test.pop('churn_probability')\n",
    "X_test = df_test"
   ]
  },
  {
   "cell_type": "code",
   "execution_count": 370,
   "id": "1cfab169-2977-4e27-b6c1-610e0c942761",
   "metadata": {},
   "outputs": [
    {
     "data": {
      "text/html": [
       "<div>\n",
       "<style scoped>\n",
       "    .dataframe tbody tr th:only-of-type {\n",
       "        vertical-align: middle;\n",
       "    }\n",
       "\n",
       "    .dataframe tbody tr th {\n",
       "        vertical-align: top;\n",
       "    }\n",
       "\n",
       "    .dataframe thead th {\n",
       "        text-align: right;\n",
       "    }\n",
       "</style>\n",
       "<table border=\"1\" class=\"dataframe\">\n",
       "  <thead>\n",
       "    <tr style=\"text-align: right;\">\n",
       "      <th></th>\n",
       "      <th>arpu_6</th>\n",
       "      <th>arpu_7</th>\n",
       "      <th>arpu_8</th>\n",
       "      <th>onnet_mou_6</th>\n",
       "      <th>onnet_mou_7</th>\n",
       "      <th>onnet_mou_8</th>\n",
       "      <th>offnet_mou_6</th>\n",
       "      <th>offnet_mou_7</th>\n",
       "      <th>offnet_mou_8</th>\n",
       "      <th>roam_ic_mou_6</th>\n",
       "      <th>...</th>\n",
       "      <th>sachet_3g_7</th>\n",
       "      <th>sachet_3g_8</th>\n",
       "      <th>aon</th>\n",
       "      <th>aug_vbc_3g</th>\n",
       "      <th>jul_vbc_3g</th>\n",
       "      <th>jun_vbc_3g</th>\n",
       "      <th>total_rech_6</th>\n",
       "      <th>total_rech_7</th>\n",
       "      <th>total_rech_8</th>\n",
       "      <th>total_avg_rech_amnt_6_7_GPhase</th>\n",
       "    </tr>\n",
       "  </thead>\n",
       "  <tbody>\n",
       "    <tr>\n",
       "      <th>61787</th>\n",
       "      <td>373.161</td>\n",
       "      <td>468.636</td>\n",
       "      <td>679.900</td>\n",
       "      <td>60.03</td>\n",
       "      <td>98.26</td>\n",
       "      <td>62.64</td>\n",
       "      <td>658.93</td>\n",
       "      <td>970.49</td>\n",
       "      <td>1197.26</td>\n",
       "      <td>0.00</td>\n",
       "      <td>...</td>\n",
       "      <td>0</td>\n",
       "      <td>0</td>\n",
       "      <td>472</td>\n",
       "      <td>0.0</td>\n",
       "      <td>0.0</td>\n",
       "      <td>0.0</td>\n",
       "      <td>0.0</td>\n",
       "      <td>0.0</td>\n",
       "      <td>0.0</td>\n",
       "      <td>0.0</td>\n",
       "    </tr>\n",
       "    <tr>\n",
       "      <th>19961</th>\n",
       "      <td>81.812</td>\n",
       "      <td>88.382</td>\n",
       "      <td>55.468</td>\n",
       "      <td>0.00</td>\n",
       "      <td>0.00</td>\n",
       "      <td>0.00</td>\n",
       "      <td>0.00</td>\n",
       "      <td>0.28</td>\n",
       "      <td>0.46</td>\n",
       "      <td>0.00</td>\n",
       "      <td>...</td>\n",
       "      <td>0</td>\n",
       "      <td>0</td>\n",
       "      <td>577</td>\n",
       "      <td>0.0</td>\n",
       "      <td>0.0</td>\n",
       "      <td>0.0</td>\n",
       "      <td>105.0</td>\n",
       "      <td>208.0</td>\n",
       "      <td>119.0</td>\n",
       "      <td>313.0</td>\n",
       "    </tr>\n",
       "    <tr>\n",
       "      <th>11040</th>\n",
       "      <td>366.437</td>\n",
       "      <td>264.586</td>\n",
       "      <td>247.665</td>\n",
       "      <td>47.66</td>\n",
       "      <td>34.06</td>\n",
       "      <td>115.89</td>\n",
       "      <td>203.21</td>\n",
       "      <td>299.94</td>\n",
       "      <td>273.94</td>\n",
       "      <td>90.58</td>\n",
       "      <td>...</td>\n",
       "      <td>0</td>\n",
       "      <td>0</td>\n",
       "      <td>3145</td>\n",
       "      <td>0.0</td>\n",
       "      <td>0.0</td>\n",
       "      <td>0.0</td>\n",
       "      <td>0.0</td>\n",
       "      <td>0.0</td>\n",
       "      <td>0.0</td>\n",
       "      <td>0.0</td>\n",
       "    </tr>\n",
       "    <tr>\n",
       "      <th>27673</th>\n",
       "      <td>328.054</td>\n",
       "      <td>53.221</td>\n",
       "      <td>42.170</td>\n",
       "      <td>368.18</td>\n",
       "      <td>43.73</td>\n",
       "      <td>10.70</td>\n",
       "      <td>173.51</td>\n",
       "      <td>19.64</td>\n",
       "      <td>0.00</td>\n",
       "      <td>0.00</td>\n",
       "      <td>...</td>\n",
       "      <td>0</td>\n",
       "      <td>0</td>\n",
       "      <td>551</td>\n",
       "      <td>0.0</td>\n",
       "      <td>0.0</td>\n",
       "      <td>0.0</td>\n",
       "      <td>0.0</td>\n",
       "      <td>0.0</td>\n",
       "      <td>0.0</td>\n",
       "      <td>0.0</td>\n",
       "    </tr>\n",
       "    <tr>\n",
       "      <th>22876</th>\n",
       "      <td>59.990</td>\n",
       "      <td>66.337</td>\n",
       "      <td>75.979</td>\n",
       "      <td>8.59</td>\n",
       "      <td>31.08</td>\n",
       "      <td>34.46</td>\n",
       "      <td>48.76</td>\n",
       "      <td>34.78</td>\n",
       "      <td>75.64</td>\n",
       "      <td>0.00</td>\n",
       "      <td>...</td>\n",
       "      <td>0</td>\n",
       "      <td>0</td>\n",
       "      <td>524</td>\n",
       "      <td>0.0</td>\n",
       "      <td>0.0</td>\n",
       "      <td>0.0</td>\n",
       "      <td>0.0</td>\n",
       "      <td>0.0</td>\n",
       "      <td>0.0</td>\n",
       "      <td>0.0</td>\n",
       "    </tr>\n",
       "  </tbody>\n",
       "</table>\n",
       "<p>5 rows × 134 columns</p>\n",
       "</div>"
      ],
      "text/plain": [
       "        arpu_6   arpu_7   arpu_8  onnet_mou_6  onnet_mou_7  onnet_mou_8  \\\n",
       "61787  373.161  468.636  679.900        60.03        98.26        62.64   \n",
       "19961   81.812   88.382   55.468         0.00         0.00         0.00   \n",
       "11040  366.437  264.586  247.665        47.66        34.06       115.89   \n",
       "27673  328.054   53.221   42.170       368.18        43.73        10.70   \n",
       "22876   59.990   66.337   75.979         8.59        31.08        34.46   \n",
       "\n",
       "       offnet_mou_6  offnet_mou_7  offnet_mou_8  roam_ic_mou_6  ...  \\\n",
       "61787        658.93        970.49       1197.26           0.00  ...   \n",
       "19961          0.00          0.28          0.46           0.00  ...   \n",
       "11040        203.21        299.94        273.94          90.58  ...   \n",
       "27673        173.51         19.64          0.00           0.00  ...   \n",
       "22876         48.76         34.78         75.64           0.00  ...   \n",
       "\n",
       "       sachet_3g_7  sachet_3g_8   aon  aug_vbc_3g  jul_vbc_3g  jun_vbc_3g  \\\n",
       "61787            0            0   472         0.0         0.0         0.0   \n",
       "19961            0            0   577         0.0         0.0         0.0   \n",
       "11040            0            0  3145         0.0         0.0         0.0   \n",
       "27673            0            0   551         0.0         0.0         0.0   \n",
       "22876            0            0   524         0.0         0.0         0.0   \n",
       "\n",
       "       total_rech_6  total_rech_7  total_rech_8  \\\n",
       "61787           0.0           0.0           0.0   \n",
       "19961         105.0         208.0         119.0   \n",
       "11040           0.0           0.0           0.0   \n",
       "27673           0.0           0.0           0.0   \n",
       "22876           0.0           0.0           0.0   \n",
       "\n",
       "       total_avg_rech_amnt_6_7_GPhase  \n",
       "61787                             0.0  \n",
       "19961                           313.0  \n",
       "11040                             0.0  \n",
       "27673                             0.0  \n",
       "22876                             0.0  \n",
       "\n",
       "[5 rows x 134 columns]"
      ]
     },
     "execution_count": 370,
     "metadata": {},
     "output_type": "execute_result"
    }
   ],
   "source": [
    "X_train.head()"
   ]
  },
  {
   "cell_type": "code",
   "execution_count": 372,
   "id": "091f2d85-5a3d-401a-a8b8-20838dfc291c",
   "metadata": {},
   "outputs": [
    {
     "data": {
      "text/plain": [
       "61787    0\n",
       "19961    0\n",
       "11040    0\n",
       "27673    0\n",
       "22876    0\n",
       "Name: churn_probability, dtype: int64"
      ]
     },
     "execution_count": 372,
     "metadata": {},
     "output_type": "execute_result"
    }
   ],
   "source": [
    "y_train.head()"
   ]
  },
  {
   "cell_type": "code",
   "execution_count": 376,
   "id": "e29e5416-f140-4231-bb2b-1a01f80a9092",
   "metadata": {},
   "outputs": [
    {
     "name": "stdout",
     "output_type": "stream",
     "text": [
      "(69999, 135)\n",
      "(48999, 134)\n",
      "(21000, 134)\n",
      "(48999,)\n",
      "(21000,)\n"
     ]
    }
   ],
   "source": [
    "print(df_tel_train.shape)\n",
    "print(X_train.shape)\n",
    "print(X_test.shape)\n",
    "print(y_train.shape)\n",
    "print(y_test.shape)"
   ]
  },
  {
   "cell_type": "markdown",
   "id": "9ee6fd7b-1b5f-4507-ac68-f6fe46d2c207",
   "metadata": {},
   "source": [
    "### Scaling - using Standard scaler"
   ]
  },
  {
   "cell_type": "code",
   "execution_count": 385,
   "id": "4c11dd81-d3b2-4cd8-92e8-453fd3f33c89",
   "metadata": {},
   "outputs": [],
   "source": [
    "scaler = StandardScaler()"
   ]
  },
  {
   "cell_type": "code",
   "execution_count": 387,
   "id": "048f0c51-87df-43de-b068-8b4932f1ad6e",
   "metadata": {},
   "outputs": [],
   "source": [
    "# Scaling the train & test datasets\n",
    "varlist = X_train.columns\n",
    "X_train[varlist] = scaler.fit_transform(X_train[varlist])\n",
    "X_test[varlist] = scaler.transform(X_test[varlist])"
   ]
  },
  {
   "cell_type": "code",
   "execution_count": 389,
   "id": "b88a4f69-d0d5-4344-8cde-10b1ec8f1310",
   "metadata": {},
   "outputs": [
    {
     "data": {
      "text/html": [
       "<div>\n",
       "<style scoped>\n",
       "    .dataframe tbody tr th:only-of-type {\n",
       "        vertical-align: middle;\n",
       "    }\n",
       "\n",
       "    .dataframe tbody tr th {\n",
       "        vertical-align: top;\n",
       "    }\n",
       "\n",
       "    .dataframe thead th {\n",
       "        text-align: right;\n",
       "    }\n",
       "</style>\n",
       "<table border=\"1\" class=\"dataframe\">\n",
       "  <thead>\n",
       "    <tr style=\"text-align: right;\">\n",
       "      <th></th>\n",
       "      <th>arpu_6</th>\n",
       "      <th>arpu_7</th>\n",
       "      <th>arpu_8</th>\n",
       "      <th>onnet_mou_6</th>\n",
       "      <th>onnet_mou_7</th>\n",
       "      <th>onnet_mou_8</th>\n",
       "      <th>offnet_mou_6</th>\n",
       "      <th>offnet_mou_7</th>\n",
       "      <th>offnet_mou_8</th>\n",
       "      <th>roam_ic_mou_6</th>\n",
       "      <th>...</th>\n",
       "      <th>sachet_3g_7</th>\n",
       "      <th>sachet_3g_8</th>\n",
       "      <th>aon</th>\n",
       "      <th>aug_vbc_3g</th>\n",
       "      <th>jul_vbc_3g</th>\n",
       "      <th>jun_vbc_3g</th>\n",
       "      <th>total_rech_6</th>\n",
       "      <th>total_rech_7</th>\n",
       "      <th>total_rech_8</th>\n",
       "      <th>total_avg_rech_amnt_6_7_GPhase</th>\n",
       "    </tr>\n",
       "  </thead>\n",
       "  <tbody>\n",
       "    <tr>\n",
       "      <th>61787</th>\n",
       "      <td>0.276037</td>\n",
       "      <td>0.599874</td>\n",
       "      <td>1.210616</td>\n",
       "      <td>-0.230858</td>\n",
       "      <td>-0.101709</td>\n",
       "      <td>-0.207085</td>\n",
       "      <td>1.483483</td>\n",
       "      <td>2.439311</td>\n",
       "      <td>3.199007</td>\n",
       "      <td>-0.173188</td>\n",
       "      <td>...</td>\n",
       "      <td>-0.12482</td>\n",
       "      <td>-0.125845</td>\n",
       "      <td>-0.786384</td>\n",
       "      <td>-0.252568</td>\n",
       "      <td>-0.248643</td>\n",
       "      <td>-0.236722</td>\n",
       "      <td>-0.382834</td>\n",
       "      <td>-0.391133</td>\n",
       "      <td>-0.400074</td>\n",
       "      <td>-0.424500</td>\n",
       "    </tr>\n",
       "    <tr>\n",
       "      <th>19961</th>\n",
       "      <td>-0.624046</td>\n",
       "      <td>-0.600078</td>\n",
       "      <td>-0.672568</td>\n",
       "      <td>-0.433732</td>\n",
       "      <td>-0.419905</td>\n",
       "      <td>-0.409853</td>\n",
       "      <td>-0.606555</td>\n",
       "      <td>-0.593596</td>\n",
       "      <td>-0.586563</td>\n",
       "      <td>-0.173188</td>\n",
       "      <td>...</td>\n",
       "      <td>-0.12482</td>\n",
       "      <td>-0.125845</td>\n",
       "      <td>-0.675875</td>\n",
       "      <td>-0.252568</td>\n",
       "      <td>-0.248643</td>\n",
       "      <td>-0.236722</td>\n",
       "      <td>0.436626</td>\n",
       "      <td>1.182425</td>\n",
       "      <td>0.510531</td>\n",
       "      <td>0.894223</td>\n",
       "    </tr>\n",
       "    <tr>\n",
       "      <th>11040</th>\n",
       "      <td>0.255264</td>\n",
       "      <td>-0.044039</td>\n",
       "      <td>-0.092934</td>\n",
       "      <td>-0.272663</td>\n",
       "      <td>-0.309608</td>\n",
       "      <td>-0.034714</td>\n",
       "      <td>0.038000</td>\n",
       "      <td>0.343151</td>\n",
       "      <td>0.278475</td>\n",
       "      <td>1.488076</td>\n",
       "      <td>...</td>\n",
       "      <td>-0.12482</td>\n",
       "      <td>-0.125845</td>\n",
       "      <td>2.026842</td>\n",
       "      <td>-0.252568</td>\n",
       "      <td>-0.248643</td>\n",
       "      <td>-0.236722</td>\n",
       "      <td>-0.382834</td>\n",
       "      <td>-0.391133</td>\n",
       "      <td>-0.400074</td>\n",
       "      <td>-0.424500</td>\n",
       "    </tr>\n",
       "    <tr>\n",
       "      <th>27673</th>\n",
       "      <td>0.136685</td>\n",
       "      <td>-0.711034</td>\n",
       "      <td>-0.712673</td>\n",
       "      <td>0.810545</td>\n",
       "      <td>-0.278294</td>\n",
       "      <td>-0.375216</td>\n",
       "      <td>-0.056205</td>\n",
       "      <td>-0.533076</td>\n",
       "      <td>-0.588018</td>\n",
       "      <td>-0.173188</td>\n",
       "      <td>...</td>\n",
       "      <td>-0.12482</td>\n",
       "      <td>-0.125845</td>\n",
       "      <td>-0.703239</td>\n",
       "      <td>-0.252568</td>\n",
       "      <td>-0.248643</td>\n",
       "      <td>-0.236722</td>\n",
       "      <td>-0.382834</td>\n",
       "      <td>-0.391133</td>\n",
       "      <td>-0.400074</td>\n",
       "      <td>-0.424500</td>\n",
       "    </tr>\n",
       "    <tr>\n",
       "      <th>22876</th>\n",
       "      <td>-0.691462</td>\n",
       "      <td>-0.669645</td>\n",
       "      <td>-0.610711</td>\n",
       "      <td>-0.404701</td>\n",
       "      <td>-0.319258</td>\n",
       "      <td>-0.298305</td>\n",
       "      <td>-0.451895</td>\n",
       "      <td>-0.485748</td>\n",
       "      <td>-0.348762</td>\n",
       "      <td>-0.173188</td>\n",
       "      <td>...</td>\n",
       "      <td>-0.12482</td>\n",
       "      <td>-0.125845</td>\n",
       "      <td>-0.731656</td>\n",
       "      <td>-0.252568</td>\n",
       "      <td>-0.248643</td>\n",
       "      <td>-0.236722</td>\n",
       "      <td>-0.382834</td>\n",
       "      <td>-0.391133</td>\n",
       "      <td>-0.400074</td>\n",
       "      <td>-0.424500</td>\n",
       "    </tr>\n",
       "  </tbody>\n",
       "</table>\n",
       "<p>5 rows × 134 columns</p>\n",
       "</div>"
      ],
      "text/plain": [
       "         arpu_6    arpu_7    arpu_8  onnet_mou_6  onnet_mou_7  onnet_mou_8  \\\n",
       "61787  0.276037  0.599874  1.210616    -0.230858    -0.101709    -0.207085   \n",
       "19961 -0.624046 -0.600078 -0.672568    -0.433732    -0.419905    -0.409853   \n",
       "11040  0.255264 -0.044039 -0.092934    -0.272663    -0.309608    -0.034714   \n",
       "27673  0.136685 -0.711034 -0.712673     0.810545    -0.278294    -0.375216   \n",
       "22876 -0.691462 -0.669645 -0.610711    -0.404701    -0.319258    -0.298305   \n",
       "\n",
       "       offnet_mou_6  offnet_mou_7  offnet_mou_8  roam_ic_mou_6  ...  \\\n",
       "61787      1.483483      2.439311      3.199007      -0.173188  ...   \n",
       "19961     -0.606555     -0.593596     -0.586563      -0.173188  ...   \n",
       "11040      0.038000      0.343151      0.278475       1.488076  ...   \n",
       "27673     -0.056205     -0.533076     -0.588018      -0.173188  ...   \n",
       "22876     -0.451895     -0.485748     -0.348762      -0.173188  ...   \n",
       "\n",
       "       sachet_3g_7  sachet_3g_8       aon  aug_vbc_3g  jul_vbc_3g  jun_vbc_3g  \\\n",
       "61787     -0.12482    -0.125845 -0.786384   -0.252568   -0.248643   -0.236722   \n",
       "19961     -0.12482    -0.125845 -0.675875   -0.252568   -0.248643   -0.236722   \n",
       "11040     -0.12482    -0.125845  2.026842   -0.252568   -0.248643   -0.236722   \n",
       "27673     -0.12482    -0.125845 -0.703239   -0.252568   -0.248643   -0.236722   \n",
       "22876     -0.12482    -0.125845 -0.731656   -0.252568   -0.248643   -0.236722   \n",
       "\n",
       "       total_rech_6  total_rech_7  total_rech_8  \\\n",
       "61787     -0.382834     -0.391133     -0.400074   \n",
       "19961      0.436626      1.182425      0.510531   \n",
       "11040     -0.382834     -0.391133     -0.400074   \n",
       "27673     -0.382834     -0.391133     -0.400074   \n",
       "22876     -0.382834     -0.391133     -0.400074   \n",
       "\n",
       "       total_avg_rech_amnt_6_7_GPhase  \n",
       "61787                       -0.424500  \n",
       "19961                        0.894223  \n",
       "11040                       -0.424500  \n",
       "27673                       -0.424500  \n",
       "22876                       -0.424500  \n",
       "\n",
       "[5 rows x 134 columns]"
      ]
     },
     "execution_count": 389,
     "metadata": {},
     "output_type": "execute_result"
    }
   ],
   "source": [
    "X_train.head()"
   ]
  },
  {
   "cell_type": "code",
   "execution_count": null,
   "id": "4be64b47-6b50-45fd-8b20-ca12cb01583e",
   "metadata": {},
   "outputs": [],
   "source": []
  }
 ],
 "metadata": {
  "kernelspec": {
   "display_name": "Python 3 (ipykernel)",
   "language": "python",
   "name": "python3"
  },
  "language_info": {
   "codemirror_mode": {
    "name": "ipython",
    "version": 3
   },
   "file_extension": ".py",
   "mimetype": "text/x-python",
   "name": "python",
   "nbconvert_exporter": "python",
   "pygments_lexer": "ipython3",
   "version": "3.11.7"
  }
 },
 "nbformat": 4,
 "nbformat_minor": 5
}
